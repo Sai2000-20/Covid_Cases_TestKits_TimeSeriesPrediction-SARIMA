{
 "cells": [
  {
   "cell_type": "code",
   "execution_count": 234,
   "metadata": {},
   "outputs": [
    {
     "data": {
      "text/html": [
       "<div>\n",
       "<style scoped>\n",
       "    .dataframe tbody tr th:only-of-type {\n",
       "        vertical-align: middle;\n",
       "    }\n",
       "\n",
       "    .dataframe tbody tr th {\n",
       "        vertical-align: top;\n",
       "    }\n",
       "\n",
       "    .dataframe thead th {\n",
       "        text-align: right;\n",
       "    }\n",
       "</style>\n",
       "<table border=\"1\" class=\"dataframe\">\n",
       "  <thead>\n",
       "    <tr style=\"text-align: right;\">\n",
       "      <th></th>\n",
       "      <th>iso_code</th>\n",
       "      <th>continent</th>\n",
       "      <th>location</th>\n",
       "      <th>date</th>\n",
       "      <th>total_cases</th>\n",
       "      <th>new_cases</th>\n",
       "      <th>new_cases_smoothed</th>\n",
       "      <th>total_deaths</th>\n",
       "      <th>new_deaths</th>\n",
       "      <th>new_deaths_smoothed</th>\n",
       "      <th>...</th>\n",
       "      <th>gdp_per_capita</th>\n",
       "      <th>extreme_poverty</th>\n",
       "      <th>cardiovasc_death_rate</th>\n",
       "      <th>diabetes_prevalence</th>\n",
       "      <th>female_smokers</th>\n",
       "      <th>male_smokers</th>\n",
       "      <th>handwashing_facilities</th>\n",
       "      <th>hospital_beds_per_thousand</th>\n",
       "      <th>life_expectancy</th>\n",
       "      <th>human_development_index</th>\n",
       "    </tr>\n",
       "  </thead>\n",
       "  <tbody>\n",
       "    <tr>\n",
       "      <td>0</td>\n",
       "      <td>AFG</td>\n",
       "      <td>Asia</td>\n",
       "      <td>Afghanistan</td>\n",
       "      <td>23/1/2020</td>\n",
       "      <td>NaN</td>\n",
       "      <td>0.0</td>\n",
       "      <td>NaN</td>\n",
       "      <td>NaN</td>\n",
       "      <td>0.0</td>\n",
       "      <td>NaN</td>\n",
       "      <td>...</td>\n",
       "      <td>1803.987</td>\n",
       "      <td>NaN</td>\n",
       "      <td>597.029</td>\n",
       "      <td>9.59</td>\n",
       "      <td>NaN</td>\n",
       "      <td>NaN</td>\n",
       "      <td>37.746</td>\n",
       "      <td>0.5</td>\n",
       "      <td>64.83</td>\n",
       "      <td>0.498</td>\n",
       "    </tr>\n",
       "    <tr>\n",
       "      <td>1</td>\n",
       "      <td>AFG</td>\n",
       "      <td>Asia</td>\n",
       "      <td>Afghanistan</td>\n",
       "      <td>24/1/2020</td>\n",
       "      <td>NaN</td>\n",
       "      <td>0.0</td>\n",
       "      <td>NaN</td>\n",
       "      <td>NaN</td>\n",
       "      <td>0.0</td>\n",
       "      <td>NaN</td>\n",
       "      <td>...</td>\n",
       "      <td>1803.987</td>\n",
       "      <td>NaN</td>\n",
       "      <td>597.029</td>\n",
       "      <td>9.59</td>\n",
       "      <td>NaN</td>\n",
       "      <td>NaN</td>\n",
       "      <td>37.746</td>\n",
       "      <td>0.5</td>\n",
       "      <td>64.83</td>\n",
       "      <td>0.498</td>\n",
       "    </tr>\n",
       "    <tr>\n",
       "      <td>2</td>\n",
       "      <td>AFG</td>\n",
       "      <td>Asia</td>\n",
       "      <td>Afghanistan</td>\n",
       "      <td>25/1/2020</td>\n",
       "      <td>NaN</td>\n",
       "      <td>0.0</td>\n",
       "      <td>NaN</td>\n",
       "      <td>NaN</td>\n",
       "      <td>0.0</td>\n",
       "      <td>NaN</td>\n",
       "      <td>...</td>\n",
       "      <td>1803.987</td>\n",
       "      <td>NaN</td>\n",
       "      <td>597.029</td>\n",
       "      <td>9.59</td>\n",
       "      <td>NaN</td>\n",
       "      <td>NaN</td>\n",
       "      <td>37.746</td>\n",
       "      <td>0.5</td>\n",
       "      <td>64.83</td>\n",
       "      <td>0.498</td>\n",
       "    </tr>\n",
       "    <tr>\n",
       "      <td>3</td>\n",
       "      <td>AFG</td>\n",
       "      <td>Asia</td>\n",
       "      <td>Afghanistan</td>\n",
       "      <td>26/1/2020</td>\n",
       "      <td>NaN</td>\n",
       "      <td>0.0</td>\n",
       "      <td>NaN</td>\n",
       "      <td>NaN</td>\n",
       "      <td>0.0</td>\n",
       "      <td>NaN</td>\n",
       "      <td>...</td>\n",
       "      <td>1803.987</td>\n",
       "      <td>NaN</td>\n",
       "      <td>597.029</td>\n",
       "      <td>9.59</td>\n",
       "      <td>NaN</td>\n",
       "      <td>NaN</td>\n",
       "      <td>37.746</td>\n",
       "      <td>0.5</td>\n",
       "      <td>64.83</td>\n",
       "      <td>0.498</td>\n",
       "    </tr>\n",
       "    <tr>\n",
       "      <td>4</td>\n",
       "      <td>AFG</td>\n",
       "      <td>Asia</td>\n",
       "      <td>Afghanistan</td>\n",
       "      <td>27/1/2020</td>\n",
       "      <td>NaN</td>\n",
       "      <td>0.0</td>\n",
       "      <td>NaN</td>\n",
       "      <td>NaN</td>\n",
       "      <td>0.0</td>\n",
       "      <td>NaN</td>\n",
       "      <td>...</td>\n",
       "      <td>1803.987</td>\n",
       "      <td>NaN</td>\n",
       "      <td>597.029</td>\n",
       "      <td>9.59</td>\n",
       "      <td>NaN</td>\n",
       "      <td>NaN</td>\n",
       "      <td>37.746</td>\n",
       "      <td>0.5</td>\n",
       "      <td>64.83</td>\n",
       "      <td>0.498</td>\n",
       "    </tr>\n",
       "    <tr>\n",
       "      <td>...</td>\n",
       "      <td>...</td>\n",
       "      <td>...</td>\n",
       "      <td>...</td>\n",
       "      <td>...</td>\n",
       "      <td>...</td>\n",
       "      <td>...</td>\n",
       "      <td>...</td>\n",
       "      <td>...</td>\n",
       "      <td>...</td>\n",
       "      <td>...</td>\n",
       "      <td>...</td>\n",
       "      <td>...</td>\n",
       "      <td>...</td>\n",
       "      <td>...</td>\n",
       "      <td>...</td>\n",
       "      <td>...</td>\n",
       "      <td>...</td>\n",
       "      <td>...</td>\n",
       "      <td>...</td>\n",
       "      <td>...</td>\n",
       "      <td>...</td>\n",
       "    </tr>\n",
       "    <tr>\n",
       "      <td>60475</td>\n",
       "      <td>ZWE</td>\n",
       "      <td>Africa</td>\n",
       "      <td>Zimbabwe</td>\n",
       "      <td>29/11/2020</td>\n",
       "      <td>9822.0</td>\n",
       "      <td>0.0</td>\n",
       "      <td>86.000</td>\n",
       "      <td>275.0</td>\n",
       "      <td>0.0</td>\n",
       "      <td>1.000</td>\n",
       "      <td>...</td>\n",
       "      <td>1899.775</td>\n",
       "      <td>21.4</td>\n",
       "      <td>307.846</td>\n",
       "      <td>1.82</td>\n",
       "      <td>1.6</td>\n",
       "      <td>30.7</td>\n",
       "      <td>36.791</td>\n",
       "      <td>1.7</td>\n",
       "      <td>61.49</td>\n",
       "      <td>0.535</td>\n",
       "    </tr>\n",
       "    <tr>\n",
       "      <td>60476</td>\n",
       "      <td>ZWE</td>\n",
       "      <td>Africa</td>\n",
       "      <td>Zimbabwe</td>\n",
       "      <td>30/11/2020</td>\n",
       "      <td>9950.0</td>\n",
       "      <td>128.0</td>\n",
       "      <td>91.714</td>\n",
       "      <td>276.0</td>\n",
       "      <td>1.0</td>\n",
       "      <td>0.429</td>\n",
       "      <td>...</td>\n",
       "      <td>1899.775</td>\n",
       "      <td>21.4</td>\n",
       "      <td>307.846</td>\n",
       "      <td>1.82</td>\n",
       "      <td>1.6</td>\n",
       "      <td>30.7</td>\n",
       "      <td>36.791</td>\n",
       "      <td>1.7</td>\n",
       "      <td>61.49</td>\n",
       "      <td>0.535</td>\n",
       "    </tr>\n",
       "    <tr>\n",
       "      <td>60477</td>\n",
       "      <td>ZWE</td>\n",
       "      <td>Africa</td>\n",
       "      <td>Zimbabwe</td>\n",
       "      <td>1/12/2020</td>\n",
       "      <td>10129.0</td>\n",
       "      <td>179.0</td>\n",
       "      <td>104.429</td>\n",
       "      <td>277.0</td>\n",
       "      <td>1.0</td>\n",
       "      <td>0.429</td>\n",
       "      <td>...</td>\n",
       "      <td>1899.775</td>\n",
       "      <td>21.4</td>\n",
       "      <td>307.846</td>\n",
       "      <td>1.82</td>\n",
       "      <td>1.6</td>\n",
       "      <td>30.7</td>\n",
       "      <td>36.791</td>\n",
       "      <td>1.7</td>\n",
       "      <td>61.49</td>\n",
       "      <td>0.535</td>\n",
       "    </tr>\n",
       "    <tr>\n",
       "      <td>60478</td>\n",
       "      <td>ZWE</td>\n",
       "      <td>Africa</td>\n",
       "      <td>Zimbabwe</td>\n",
       "      <td>2/12/2020</td>\n",
       "      <td>10129.0</td>\n",
       "      <td>0.0</td>\n",
       "      <td>88.714</td>\n",
       "      <td>277.0</td>\n",
       "      <td>0.0</td>\n",
       "      <td>0.429</td>\n",
       "      <td>...</td>\n",
       "      <td>1899.775</td>\n",
       "      <td>21.4</td>\n",
       "      <td>307.846</td>\n",
       "      <td>1.82</td>\n",
       "      <td>1.6</td>\n",
       "      <td>30.7</td>\n",
       "      <td>36.791</td>\n",
       "      <td>1.7</td>\n",
       "      <td>61.49</td>\n",
       "      <td>0.535</td>\n",
       "    </tr>\n",
       "    <tr>\n",
       "      <td>60479</td>\n",
       "      <td>ZWE</td>\n",
       "      <td>Africa</td>\n",
       "      <td>Zimbabwe</td>\n",
       "      <td>3/12/2020</td>\n",
       "      <td>10424.0</td>\n",
       "      <td>295.0</td>\n",
       "      <td>114.429</td>\n",
       "      <td>280.0</td>\n",
       "      <td>3.0</td>\n",
       "      <td>0.857</td>\n",
       "      <td>...</td>\n",
       "      <td>1899.775</td>\n",
       "      <td>21.4</td>\n",
       "      <td>307.846</td>\n",
       "      <td>1.82</td>\n",
       "      <td>1.6</td>\n",
       "      <td>30.7</td>\n",
       "      <td>36.791</td>\n",
       "      <td>1.7</td>\n",
       "      <td>61.49</td>\n",
       "      <td>0.535</td>\n",
       "    </tr>\n",
       "  </tbody>\n",
       "</table>\n",
       "<p>60480 rows × 50 columns</p>\n",
       "</div>"
      ],
      "text/plain": [
       "      iso_code continent     location        date  total_cases  new_cases  \\\n",
       "0          AFG      Asia  Afghanistan   23/1/2020          NaN        0.0   \n",
       "1          AFG      Asia  Afghanistan   24/1/2020          NaN        0.0   \n",
       "2          AFG      Asia  Afghanistan   25/1/2020          NaN        0.0   \n",
       "3          AFG      Asia  Afghanistan   26/1/2020          NaN        0.0   \n",
       "4          AFG      Asia  Afghanistan   27/1/2020          NaN        0.0   \n",
       "...        ...       ...          ...         ...          ...        ...   \n",
       "60475      ZWE    Africa     Zimbabwe  29/11/2020       9822.0        0.0   \n",
       "60476      ZWE    Africa     Zimbabwe  30/11/2020       9950.0      128.0   \n",
       "60477      ZWE    Africa     Zimbabwe   1/12/2020      10129.0      179.0   \n",
       "60478      ZWE    Africa     Zimbabwe   2/12/2020      10129.0        0.0   \n",
       "60479      ZWE    Africa     Zimbabwe   3/12/2020      10424.0      295.0   \n",
       "\n",
       "       new_cases_smoothed  total_deaths  new_deaths  new_deaths_smoothed  ...  \\\n",
       "0                     NaN           NaN         0.0                  NaN  ...   \n",
       "1                     NaN           NaN         0.0                  NaN  ...   \n",
       "2                     NaN           NaN         0.0                  NaN  ...   \n",
       "3                     NaN           NaN         0.0                  NaN  ...   \n",
       "4                     NaN           NaN         0.0                  NaN  ...   \n",
       "...                   ...           ...         ...                  ...  ...   \n",
       "60475              86.000         275.0         0.0                1.000  ...   \n",
       "60476              91.714         276.0         1.0                0.429  ...   \n",
       "60477             104.429         277.0         1.0                0.429  ...   \n",
       "60478              88.714         277.0         0.0                0.429  ...   \n",
       "60479             114.429         280.0         3.0                0.857  ...   \n",
       "\n",
       "       gdp_per_capita  extreme_poverty  cardiovasc_death_rate  \\\n",
       "0            1803.987              NaN                597.029   \n",
       "1            1803.987              NaN                597.029   \n",
       "2            1803.987              NaN                597.029   \n",
       "3            1803.987              NaN                597.029   \n",
       "4            1803.987              NaN                597.029   \n",
       "...               ...              ...                    ...   \n",
       "60475        1899.775             21.4                307.846   \n",
       "60476        1899.775             21.4                307.846   \n",
       "60477        1899.775             21.4                307.846   \n",
       "60478        1899.775             21.4                307.846   \n",
       "60479        1899.775             21.4                307.846   \n",
       "\n",
       "       diabetes_prevalence  female_smokers  male_smokers  \\\n",
       "0                     9.59             NaN           NaN   \n",
       "1                     9.59             NaN           NaN   \n",
       "2                     9.59             NaN           NaN   \n",
       "3                     9.59             NaN           NaN   \n",
       "4                     9.59             NaN           NaN   \n",
       "...                    ...             ...           ...   \n",
       "60475                 1.82             1.6          30.7   \n",
       "60476                 1.82             1.6          30.7   \n",
       "60477                 1.82             1.6          30.7   \n",
       "60478                 1.82             1.6          30.7   \n",
       "60479                 1.82             1.6          30.7   \n",
       "\n",
       "       handwashing_facilities  hospital_beds_per_thousand  life_expectancy  \\\n",
       "0                      37.746                         0.5            64.83   \n",
       "1                      37.746                         0.5            64.83   \n",
       "2                      37.746                         0.5            64.83   \n",
       "3                      37.746                         0.5            64.83   \n",
       "4                      37.746                         0.5            64.83   \n",
       "...                       ...                         ...              ...   \n",
       "60475                  36.791                         1.7            61.49   \n",
       "60476                  36.791                         1.7            61.49   \n",
       "60477                  36.791                         1.7            61.49   \n",
       "60478                  36.791                         1.7            61.49   \n",
       "60479                  36.791                         1.7            61.49   \n",
       "\n",
       "       human_development_index  \n",
       "0                        0.498  \n",
       "1                        0.498  \n",
       "2                        0.498  \n",
       "3                        0.498  \n",
       "4                        0.498  \n",
       "...                        ...  \n",
       "60475                    0.535  \n",
       "60476                    0.535  \n",
       "60477                    0.535  \n",
       "60478                    0.535  \n",
       "60479                    0.535  \n",
       "\n",
       "[60480 rows x 50 columns]"
      ]
     },
     "execution_count": 234,
     "metadata": {},
     "output_type": "execute_result"
    }
   ],
   "source": [
    "import pandas as pd\n",
    "import numpy as np\n",
    "import warnings\n",
    "warnings.filterwarnings(\"ignore\")\n",
    "\n",
    "#Loading the data from the file\n",
    "\n",
    "#df = pd.read_csv('C:\\\\Users\\\\Saira\\\\Desktop\\ML\\\\Individual_Assignment-Project\\\\owid-covid-data2.csv')\n",
    "df = pd.read_csv('W:\\\\um\\Machine Learning\\\\INdividual Assignment Part1\\\\owid-covid-data2.csv')\n",
    "\n",
    "df"
   ]
  },
  {
   "cell_type": "code",
   "execution_count": 235,
   "metadata": {},
   "outputs": [
    {
     "data": {
      "text/plain": [
       "<bound method NDFrame.describe of       iso_code continent     location        date  total_cases  new_cases  \\\n",
       "0          AFG      Asia  Afghanistan   23/1/2020          NaN        0.0   \n",
       "1          AFG      Asia  Afghanistan   24/1/2020          NaN        0.0   \n",
       "2          AFG      Asia  Afghanistan   25/1/2020          NaN        0.0   \n",
       "3          AFG      Asia  Afghanistan   26/1/2020          NaN        0.0   \n",
       "4          AFG      Asia  Afghanistan   27/1/2020          NaN        0.0   \n",
       "...        ...       ...          ...         ...          ...        ...   \n",
       "60475      ZWE    Africa     Zimbabwe  29/11/2020       9822.0        0.0   \n",
       "60476      ZWE    Africa     Zimbabwe  30/11/2020       9950.0      128.0   \n",
       "60477      ZWE    Africa     Zimbabwe   1/12/2020      10129.0      179.0   \n",
       "60478      ZWE    Africa     Zimbabwe   2/12/2020      10129.0        0.0   \n",
       "60479      ZWE    Africa     Zimbabwe   3/12/2020      10424.0      295.0   \n",
       "\n",
       "       new_cases_smoothed  total_deaths  new_deaths  new_deaths_smoothed  ...  \\\n",
       "0                     NaN           NaN         0.0                  NaN  ...   \n",
       "1                     NaN           NaN         0.0                  NaN  ...   \n",
       "2                     NaN           NaN         0.0                  NaN  ...   \n",
       "3                     NaN           NaN         0.0                  NaN  ...   \n",
       "4                     NaN           NaN         0.0                  NaN  ...   \n",
       "...                   ...           ...         ...                  ...  ...   \n",
       "60475              86.000         275.0         0.0                1.000  ...   \n",
       "60476              91.714         276.0         1.0                0.429  ...   \n",
       "60477             104.429         277.0         1.0                0.429  ...   \n",
       "60478              88.714         277.0         0.0                0.429  ...   \n",
       "60479             114.429         280.0         3.0                0.857  ...   \n",
       "\n",
       "       gdp_per_capita  extreme_poverty  cardiovasc_death_rate  \\\n",
       "0            1803.987              NaN                597.029   \n",
       "1            1803.987              NaN                597.029   \n",
       "2            1803.987              NaN                597.029   \n",
       "3            1803.987              NaN                597.029   \n",
       "4            1803.987              NaN                597.029   \n",
       "...               ...              ...                    ...   \n",
       "60475        1899.775             21.4                307.846   \n",
       "60476        1899.775             21.4                307.846   \n",
       "60477        1899.775             21.4                307.846   \n",
       "60478        1899.775             21.4                307.846   \n",
       "60479        1899.775             21.4                307.846   \n",
       "\n",
       "       diabetes_prevalence  female_smokers  male_smokers  \\\n",
       "0                     9.59             NaN           NaN   \n",
       "1                     9.59             NaN           NaN   \n",
       "2                     9.59             NaN           NaN   \n",
       "3                     9.59             NaN           NaN   \n",
       "4                     9.59             NaN           NaN   \n",
       "...                    ...             ...           ...   \n",
       "60475                 1.82             1.6          30.7   \n",
       "60476                 1.82             1.6          30.7   \n",
       "60477                 1.82             1.6          30.7   \n",
       "60478                 1.82             1.6          30.7   \n",
       "60479                 1.82             1.6          30.7   \n",
       "\n",
       "       handwashing_facilities  hospital_beds_per_thousand  life_expectancy  \\\n",
       "0                      37.746                         0.5            64.83   \n",
       "1                      37.746                         0.5            64.83   \n",
       "2                      37.746                         0.5            64.83   \n",
       "3                      37.746                         0.5            64.83   \n",
       "4                      37.746                         0.5            64.83   \n",
       "...                       ...                         ...              ...   \n",
       "60475                  36.791                         1.7            61.49   \n",
       "60476                  36.791                         1.7            61.49   \n",
       "60477                  36.791                         1.7            61.49   \n",
       "60478                  36.791                         1.7            61.49   \n",
       "60479                  36.791                         1.7            61.49   \n",
       "\n",
       "       human_development_index  \n",
       "0                        0.498  \n",
       "1                        0.498  \n",
       "2                        0.498  \n",
       "3                        0.498  \n",
       "4                        0.498  \n",
       "...                        ...  \n",
       "60475                    0.535  \n",
       "60476                    0.535  \n",
       "60477                    0.535  \n",
       "60478                    0.535  \n",
       "60479                    0.535  \n",
       "\n",
       "[60480 rows x 50 columns]>"
      ]
     },
     "execution_count": 235,
     "metadata": {},
     "output_type": "execute_result"
    }
   ],
   "source": [
    "df.describe\n",
    "# It has 50 columns and 60480 rows- we would filter for the required columns only\n",
    "# get columns 'iso_code','location','date','total_cases','new_cases','total_tests','new_tests'\n",
    "# There are 60480 rows x 50 columns\n"
   ]
  },
  {
   "cell_type": "code",
   "execution_count": 236,
   "metadata": {},
   "outputs": [
    {
     "data": {
      "text/html": [
       "<div>\n",
       "<style scoped>\n",
       "    .dataframe tbody tr th:only-of-type {\n",
       "        vertical-align: middle;\n",
       "    }\n",
       "\n",
       "    .dataframe tbody tr th {\n",
       "        vertical-align: top;\n",
       "    }\n",
       "\n",
       "    .dataframe thead th {\n",
       "        text-align: right;\n",
       "    }\n",
       "</style>\n",
       "<table border=\"1\" class=\"dataframe\">\n",
       "  <thead>\n",
       "    <tr style=\"text-align: right;\">\n",
       "      <th></th>\n",
       "      <th>iso_code</th>\n",
       "      <th>location</th>\n",
       "      <th>date</th>\n",
       "      <th>total_cases</th>\n",
       "      <th>new_cases</th>\n",
       "      <th>total_tests</th>\n",
       "      <th>new_tests</th>\n",
       "    </tr>\n",
       "  </thead>\n",
       "  <tbody>\n",
       "    <tr>\n",
       "      <td>0</td>\n",
       "      <td>AFG</td>\n",
       "      <td>Afghanistan</td>\n",
       "      <td>23/1/2020</td>\n",
       "      <td>NaN</td>\n",
       "      <td>0.0</td>\n",
       "      <td>NaN</td>\n",
       "      <td>NaN</td>\n",
       "    </tr>\n",
       "    <tr>\n",
       "      <td>1</td>\n",
       "      <td>AFG</td>\n",
       "      <td>Afghanistan</td>\n",
       "      <td>24/1/2020</td>\n",
       "      <td>NaN</td>\n",
       "      <td>0.0</td>\n",
       "      <td>NaN</td>\n",
       "      <td>NaN</td>\n",
       "    </tr>\n",
       "    <tr>\n",
       "      <td>2</td>\n",
       "      <td>AFG</td>\n",
       "      <td>Afghanistan</td>\n",
       "      <td>25/1/2020</td>\n",
       "      <td>NaN</td>\n",
       "      <td>0.0</td>\n",
       "      <td>NaN</td>\n",
       "      <td>NaN</td>\n",
       "    </tr>\n",
       "    <tr>\n",
       "      <td>3</td>\n",
       "      <td>AFG</td>\n",
       "      <td>Afghanistan</td>\n",
       "      <td>26/1/2020</td>\n",
       "      <td>NaN</td>\n",
       "      <td>0.0</td>\n",
       "      <td>NaN</td>\n",
       "      <td>NaN</td>\n",
       "    </tr>\n",
       "    <tr>\n",
       "      <td>4</td>\n",
       "      <td>AFG</td>\n",
       "      <td>Afghanistan</td>\n",
       "      <td>27/1/2020</td>\n",
       "      <td>NaN</td>\n",
       "      <td>0.0</td>\n",
       "      <td>NaN</td>\n",
       "      <td>NaN</td>\n",
       "    </tr>\n",
       "    <tr>\n",
       "      <td>...</td>\n",
       "      <td>...</td>\n",
       "      <td>...</td>\n",
       "      <td>...</td>\n",
       "      <td>...</td>\n",
       "      <td>...</td>\n",
       "      <td>...</td>\n",
       "      <td>...</td>\n",
       "    </tr>\n",
       "    <tr>\n",
       "      <td>60475</td>\n",
       "      <td>ZWE</td>\n",
       "      <td>Zimbabwe</td>\n",
       "      <td>29/11/2020</td>\n",
       "      <td>9822.0</td>\n",
       "      <td>0.0</td>\n",
       "      <td>168212.0</td>\n",
       "      <td>965.0</td>\n",
       "    </tr>\n",
       "    <tr>\n",
       "      <td>60476</td>\n",
       "      <td>ZWE</td>\n",
       "      <td>Zimbabwe</td>\n",
       "      <td>30/11/2020</td>\n",
       "      <td>9950.0</td>\n",
       "      <td>128.0</td>\n",
       "      <td>169009.0</td>\n",
       "      <td>797.0</td>\n",
       "    </tr>\n",
       "    <tr>\n",
       "      <td>60477</td>\n",
       "      <td>ZWE</td>\n",
       "      <td>Zimbabwe</td>\n",
       "      <td>1/12/2020</td>\n",
       "      <td>10129.0</td>\n",
       "      <td>179.0</td>\n",
       "      <td>170038.0</td>\n",
       "      <td>1029.0</td>\n",
       "    </tr>\n",
       "    <tr>\n",
       "      <td>60478</td>\n",
       "      <td>ZWE</td>\n",
       "      <td>Zimbabwe</td>\n",
       "      <td>2/12/2020</td>\n",
       "      <td>10129.0</td>\n",
       "      <td>0.0</td>\n",
       "      <td>171900.0</td>\n",
       "      <td>1862.0</td>\n",
       "    </tr>\n",
       "    <tr>\n",
       "      <td>60479</td>\n",
       "      <td>ZWE</td>\n",
       "      <td>Zimbabwe</td>\n",
       "      <td>3/12/2020</td>\n",
       "      <td>10424.0</td>\n",
       "      <td>295.0</td>\n",
       "      <td>NaN</td>\n",
       "      <td>NaN</td>\n",
       "    </tr>\n",
       "  </tbody>\n",
       "</table>\n",
       "<p>60480 rows × 7 columns</p>\n",
       "</div>"
      ],
      "text/plain": [
       "      iso_code     location        date  total_cases  new_cases  total_tests  \\\n",
       "0          AFG  Afghanistan   23/1/2020          NaN        0.0          NaN   \n",
       "1          AFG  Afghanistan   24/1/2020          NaN        0.0          NaN   \n",
       "2          AFG  Afghanistan   25/1/2020          NaN        0.0          NaN   \n",
       "3          AFG  Afghanistan   26/1/2020          NaN        0.0          NaN   \n",
       "4          AFG  Afghanistan   27/1/2020          NaN        0.0          NaN   \n",
       "...        ...          ...         ...          ...        ...          ...   \n",
       "60475      ZWE     Zimbabwe  29/11/2020       9822.0        0.0     168212.0   \n",
       "60476      ZWE     Zimbabwe  30/11/2020       9950.0      128.0     169009.0   \n",
       "60477      ZWE     Zimbabwe   1/12/2020      10129.0      179.0     170038.0   \n",
       "60478      ZWE     Zimbabwe   2/12/2020      10129.0        0.0     171900.0   \n",
       "60479      ZWE     Zimbabwe   3/12/2020      10424.0      295.0          NaN   \n",
       "\n",
       "       new_tests  \n",
       "0            NaN  \n",
       "1            NaN  \n",
       "2            NaN  \n",
       "3            NaN  \n",
       "4            NaN  \n",
       "...          ...  \n",
       "60475      965.0  \n",
       "60476      797.0  \n",
       "60477     1029.0  \n",
       "60478     1862.0  \n",
       "60479        NaN  \n",
       "\n",
       "[60480 rows x 7 columns]"
      ]
     },
     "execution_count": 236,
     "metadata": {},
     "output_type": "execute_result"
    }
   ],
   "source": [
    "#extracting the required columns only\n",
    "df=df[['iso_code','location','date','total_cases','new_cases','total_tests','new_tests']]\n",
    "df\n",
    "#60480 rows × 7 columns\n",
    "#Filtered the columns required"
   ]
  },
  {
   "cell_type": "code",
   "execution_count": 237,
   "metadata": {},
   "outputs": [
    {
     "name": "stdout",
     "output_type": "stream",
     "text": [
      "<class 'pandas.core.frame.DataFrame'>\n",
      "RangeIndex: 60480 entries, 0 to 60479\n",
      "Data columns (total 7 columns):\n",
      "iso_code       60164 non-null object\n",
      "location       60478 non-null object\n",
      "date           60480 non-null object\n",
      "total_cases    51743 non-null float64\n",
      "new_cases      60356 non-null float64\n",
      "total_tests    24032 non-null float64\n",
      "new_tests      23861 non-null float64\n",
      "dtypes: float64(4), object(3)\n",
      "memory usage: 3.2+ MB\n"
     ]
    }
   ],
   "source": [
    "df.info(verbose=True)\n",
    "#Checking the dattypes of the columns "
   ]
  },
  {
   "cell_type": "code",
   "execution_count": 238,
   "metadata": {},
   "outputs": [
    {
     "name": "stdout",
     "output_type": "stream",
     "text": [
      "Count of Null values is 82246 and Not null values is 341114\n"
     ]
    }
   ],
   "source": [
    "#chehck for null and not null values in the dataset\n",
    "\n",
    "\n",
    "print('Count of Null values is {} and Not null values is {}'.format(df.isnull().sum().sum(),df.notnull().sum().sum()))\n"
   ]
  },
  {
   "cell_type": "code",
   "execution_count": 239,
   "metadata": {},
   "outputs": [
    {
     "data": {
      "image/png": "[encoded data removed]",
      "text/plain": [
       "<Figure size 432x288 with 1 Axes>"
      ]
     },
     "metadata": {},
     "output_type": "display_data"
    }
   ],
   "source": [
    "#Plotting Null and Not null values\n",
    "import matplotlib.pyplot as plt\n",
    "counts=[df.isnull().sum().sum(),df.notnull().sum().sum()]\n",
    "labels=['Null Count','Not-Null Count']\n",
    "#colors = ['yellowgreen', 'gold', 'lightskyblue', 'lightcoral']\n",
    "#patches, texts = plt.pie(counts, colors=colors, startangle=90)\n",
    "patches, texts, junk  = plt.pie(counts, autopct='%1.1f%%',labels=labels,startangle=90)\n",
    "plt.legend(patches, labels, loc=\"upper right\")\n",
    "#There are a few null values which need to be cleaned up.\n",
    "plt.title(\"Cumulative count of Null and Not-null values \\n\" + \"in entire dataset(for all countries)\", bbox={'facecolor':'0.9', 'pad':5})\n",
    "plt.show()\n"
   ]
  },
  {
   "cell_type": "markdown",
   "metadata": {},
   "source": [
    "### Data Cleanup for country Malaysia"
   ]
  },
  {
   "cell_type": "code",
   "execution_count": 240,
   "metadata": {},
   "outputs": [
    {
     "data": {
      "text/html": [
       "<div>\n",
       "<style scoped>\n",
       "    .dataframe tbody tr th:only-of-type {\n",
       "        vertical-align: middle;\n",
       "    }\n",
       "\n",
       "    .dataframe tbody tr th {\n",
       "        vertical-align: top;\n",
       "    }\n",
       "\n",
       "    .dataframe thead th {\n",
       "        text-align: right;\n",
       "    }\n",
       "</style>\n",
       "<table border=\"1\" class=\"dataframe\">\n",
       "  <thead>\n",
       "    <tr style=\"text-align: right;\">\n",
       "      <th></th>\n",
       "      <th>iso_code</th>\n",
       "      <th>location</th>\n",
       "      <th>date</th>\n",
       "      <th>total_cases</th>\n",
       "      <th>new_cases</th>\n",
       "      <th>total_tests</th>\n",
       "      <th>new_tests</th>\n",
       "    </tr>\n",
       "  </thead>\n",
       "  <tbody>\n",
       "    <tr>\n",
       "      <td>32635</td>\n",
       "      <td>MYS</td>\n",
       "      <td>NaN</td>\n",
       "      <td>7/2/2020</td>\n",
       "      <td>12.0</td>\n",
       "      <td>0.0</td>\n",
       "      <td>0.0</td>\n",
       "      <td>0.0</td>\n",
       "    </tr>\n",
       "    <tr>\n",
       "      <td>32636</td>\n",
       "      <td>MYS</td>\n",
       "      <td>NaN</td>\n",
       "      <td>8/2/2020</td>\n",
       "      <td>16.0</td>\n",
       "      <td>4.0</td>\n",
       "      <td>0.0</td>\n",
       "      <td>0.0</td>\n",
       "    </tr>\n",
       "  </tbody>\n",
       "</table>\n",
       "</div>"
      ],
      "text/plain": [
       "      iso_code location      date  total_cases  new_cases  total_tests  \\\n",
       "32635      MYS      NaN  7/2/2020         12.0        0.0          0.0   \n",
       "32636      MYS      NaN  8/2/2020         16.0        4.0          0.0   \n",
       "\n",
       "       new_tests  \n",
       "32635        0.0  \n",
       "32636        0.0  "
      ]
     },
     "execution_count": 240,
     "metadata": {},
     "output_type": "execute_result"
    }
   ],
   "source": [
    "#'location' column has  null, and missing country name\n",
    "df[df['location'].isnull()==True]\n",
    "# 2 rows have Location as Null "
   ]
  },
  {
   "cell_type": "code",
   "execution_count": 241,
   "metadata": {},
   "outputs": [
    {
     "data": {
      "text/html": [
       "<div>\n",
       "<style scoped>\n",
       "    .dataframe tbody tr th:only-of-type {\n",
       "        vertical-align: middle;\n",
       "    }\n",
       "\n",
       "    .dataframe tbody tr th {\n",
       "        vertical-align: top;\n",
       "    }\n",
       "\n",
       "    .dataframe thead th {\n",
       "        text-align: right;\n",
       "    }\n",
       "</style>\n",
       "<table border=\"1\" class=\"dataframe\">\n",
       "  <thead>\n",
       "    <tr style=\"text-align: right;\">\n",
       "      <th></th>\n",
       "      <th>iso_code</th>\n",
       "      <th>location</th>\n",
       "      <th>date</th>\n",
       "      <th>total_cases</th>\n",
       "      <th>new_cases</th>\n",
       "      <th>total_tests</th>\n",
       "      <th>new_tests</th>\n",
       "    </tr>\n",
       "  </thead>\n",
       "  <tbody>\n",
       "    <tr>\n",
       "      <td>24403</td>\n",
       "      <td>NaN</td>\n",
       "      <td>International</td>\n",
       "      <td>23/1/2020</td>\n",
       "      <td>NaN</td>\n",
       "      <td>0.0</td>\n",
       "      <td>NaN</td>\n",
       "      <td>NaN</td>\n",
       "    </tr>\n",
       "    <tr>\n",
       "      <td>24404</td>\n",
       "      <td>NaN</td>\n",
       "      <td>International</td>\n",
       "      <td>24/1/2020</td>\n",
       "      <td>NaN</td>\n",
       "      <td>0.0</td>\n",
       "      <td>NaN</td>\n",
       "      <td>NaN</td>\n",
       "    </tr>\n",
       "    <tr>\n",
       "      <td>24405</td>\n",
       "      <td>NaN</td>\n",
       "      <td>International</td>\n",
       "      <td>25/1/2020</td>\n",
       "      <td>NaN</td>\n",
       "      <td>0.0</td>\n",
       "      <td>NaN</td>\n",
       "      <td>NaN</td>\n",
       "    </tr>\n",
       "    <tr>\n",
       "      <td>24406</td>\n",
       "      <td>NaN</td>\n",
       "      <td>International</td>\n",
       "      <td>26/1/2020</td>\n",
       "      <td>NaN</td>\n",
       "      <td>0.0</td>\n",
       "      <td>NaN</td>\n",
       "      <td>NaN</td>\n",
       "    </tr>\n",
       "    <tr>\n",
       "      <td>24407</td>\n",
       "      <td>NaN</td>\n",
       "      <td>International</td>\n",
       "      <td>27/1/2020</td>\n",
       "      <td>NaN</td>\n",
       "      <td>0.0</td>\n",
       "      <td>NaN</td>\n",
       "      <td>NaN</td>\n",
       "    </tr>\n",
       "    <tr>\n",
       "      <td>...</td>\n",
       "      <td>...</td>\n",
       "      <td>...</td>\n",
       "      <td>...</td>\n",
       "      <td>...</td>\n",
       "      <td>...</td>\n",
       "      <td>...</td>\n",
       "      <td>...</td>\n",
       "    </tr>\n",
       "    <tr>\n",
       "      <td>24714</td>\n",
       "      <td>NaN</td>\n",
       "      <td>International</td>\n",
       "      <td>29/11/2020</td>\n",
       "      <td>721.0</td>\n",
       "      <td>0.0</td>\n",
       "      <td>NaN</td>\n",
       "      <td>NaN</td>\n",
       "    </tr>\n",
       "    <tr>\n",
       "      <td>24715</td>\n",
       "      <td>NaN</td>\n",
       "      <td>International</td>\n",
       "      <td>30/11/2020</td>\n",
       "      <td>721.0</td>\n",
       "      <td>0.0</td>\n",
       "      <td>NaN</td>\n",
       "      <td>NaN</td>\n",
       "    </tr>\n",
       "    <tr>\n",
       "      <td>24716</td>\n",
       "      <td>NaN</td>\n",
       "      <td>International</td>\n",
       "      <td>1/12/2020</td>\n",
       "      <td>721.0</td>\n",
       "      <td>0.0</td>\n",
       "      <td>NaN</td>\n",
       "      <td>NaN</td>\n",
       "    </tr>\n",
       "    <tr>\n",
       "      <td>24717</td>\n",
       "      <td>NaN</td>\n",
       "      <td>International</td>\n",
       "      <td>2/12/2020</td>\n",
       "      <td>721.0</td>\n",
       "      <td>0.0</td>\n",
       "      <td>NaN</td>\n",
       "      <td>NaN</td>\n",
       "    </tr>\n",
       "    <tr>\n",
       "      <td>24718</td>\n",
       "      <td>NaN</td>\n",
       "      <td>International</td>\n",
       "      <td>3/12/2020</td>\n",
       "      <td>721.0</td>\n",
       "      <td>0.0</td>\n",
       "      <td>NaN</td>\n",
       "      <td>NaN</td>\n",
       "    </tr>\n",
       "  </tbody>\n",
       "</table>\n",
       "<p>316 rows × 7 columns</p>\n",
       "</div>"
      ],
      "text/plain": [
       "      iso_code       location        date  total_cases  new_cases  \\\n",
       "24403      NaN  International   23/1/2020          NaN        0.0   \n",
       "24404      NaN  International   24/1/2020          NaN        0.0   \n",
       "24405      NaN  International   25/1/2020          NaN        0.0   \n",
       "24406      NaN  International   26/1/2020          NaN        0.0   \n",
       "24407      NaN  International   27/1/2020          NaN        0.0   \n",
       "...        ...            ...         ...          ...        ...   \n",
       "24714      NaN  International  29/11/2020        721.0        0.0   \n",
       "24715      NaN  International  30/11/2020        721.0        0.0   \n",
       "24716      NaN  International   1/12/2020        721.0        0.0   \n",
       "24717      NaN  International   2/12/2020        721.0        0.0   \n",
       "24718      NaN  International   3/12/2020        721.0        0.0   \n",
       "\n",
       "       total_tests  new_tests  \n",
       "24403          NaN        NaN  \n",
       "24404          NaN        NaN  \n",
       "24405          NaN        NaN  \n",
       "24406          NaN        NaN  \n",
       "24407          NaN        NaN  \n",
       "...            ...        ...  \n",
       "24714          NaN        NaN  \n",
       "24715          NaN        NaN  \n",
       "24716          NaN        NaN  \n",
       "24717          NaN        NaN  \n",
       "24718          NaN        NaN  \n",
       "\n",
       "[316 rows x 7 columns]"
      ]
     },
     "execution_count": 241,
     "metadata": {},
     "output_type": "execute_result"
    }
   ],
   "source": [
    "#'iso_code' column has  null, and missing country name\n",
    "\n",
    "df[df['iso_code'].isnull()==True]\n"
   ]
  },
  {
   "cell_type": "code",
   "execution_count": 242,
   "metadata": {},
   "outputs": [
    {
     "name": "stdout",
     "output_type": "stream",
     "text": [
      "Dropped records where location and iso_code is null\n"
     ]
    }
   ],
   "source": [
    "#If iso_code and location is null then delete the record\n",
    "for index, row in df.iterrows(): \n",
    "    if df.loc[index, 'location'] is None :#'location' column has  null, and missing values\n",
    "        if df.loc[index, 'iso_code'] is None :#'iso_code' column has  null, and missing values\n",
    "            df.drop(index)#Delete the data record\n",
    "print('Dropped records where location and iso_code is null')"
   ]
  },
  {
   "cell_type": "code",
   "execution_count": 243,
   "metadata": {},
   "outputs": [
    {
     "name": "stdout",
     "output_type": "stream",
     "text": [
      "Replaced invalid iso_code values for location Malaysia\n"
     ]
    }
   ],
   "source": [
    "#Correct invalid iso_code values for location Malaysia\n",
    "for index, row in df.iterrows(): \n",
    "    if df.loc[index, 'location'] =='Malaysia' :#'location' is Malaysia\n",
    "        if df.loc[index, 'iso_code']!='MYS' :#'iso_code' not equal to MYS\n",
    "            df.loc[index, 'iso_code']='MYS'\n",
    "print('Replaced invalid iso_code values for location Malaysia')"
   ]
  },
  {
   "cell_type": "code",
   "execution_count": 244,
   "metadata": {},
   "outputs": [
    {
     "name": "stdout",
     "output_type": "stream",
     "text": [
      "Replaced invalid location values for iso_code MYS \n"
     ]
    }
   ],
   "source": [
    "#Correct invalid location values for iso_code MYS\n",
    "for index, row in df.iterrows(): \n",
    "    if df.loc[index, 'iso_code'] =='MYS' :#'iso_code' is MYS\n",
    "        if df.loc[index, 'location']!='Malaysia' :#'location' not equal to Malaysia\n",
    "            df.loc[index, 'location']='Malaysia'\n",
    "print('Replaced invalid location values for iso_code MYS ')"
   ]
  },
  {
   "cell_type": "code",
   "execution_count": 245,
   "metadata": {},
   "outputs": [
    {
     "data": {
      "text/html": [
       "<div>\n",
       "<style scoped>\n",
       "    .dataframe tbody tr th:only-of-type {\n",
       "        vertical-align: middle;\n",
       "    }\n",
       "\n",
       "    .dataframe tbody tr th {\n",
       "        vertical-align: top;\n",
       "    }\n",
       "\n",
       "    .dataframe thead th {\n",
       "        text-align: right;\n",
       "    }\n",
       "</style>\n",
       "<table border=\"1\" class=\"dataframe\">\n",
       "  <thead>\n",
       "    <tr style=\"text-align: right;\">\n",
       "      <th></th>\n",
       "      <th>iso_code</th>\n",
       "      <th>location</th>\n",
       "      <th>date</th>\n",
       "      <th>total_cases</th>\n",
       "      <th>new_cases</th>\n",
       "      <th>total_tests</th>\n",
       "      <th>new_tests</th>\n",
       "    </tr>\n",
       "  </thead>\n",
       "  <tbody>\n",
       "    <tr>\n",
       "      <td>32620</td>\n",
       "      <td>MYS</td>\n",
       "      <td>Malaysia</td>\n",
       "      <td>23/1/2020</td>\n",
       "      <td>1.0</td>\n",
       "      <td>1.0</td>\n",
       "      <td>0.0</td>\n",
       "      <td>0.0</td>\n",
       "    </tr>\n",
       "    <tr>\n",
       "      <td>32621</td>\n",
       "      <td>MYS</td>\n",
       "      <td>Malaysia</td>\n",
       "      <td>24/1/2020</td>\n",
       "      <td>2.0</td>\n",
       "      <td>1.0</td>\n",
       "      <td>0.0</td>\n",
       "      <td>0.0</td>\n",
       "    </tr>\n",
       "    <tr>\n",
       "      <td>32622</td>\n",
       "      <td>MYS</td>\n",
       "      <td>Malaysia</td>\n",
       "      <td>25/1/2020</td>\n",
       "      <td>3.0</td>\n",
       "      <td>3.0</td>\n",
       "      <td>0.0</td>\n",
       "      <td>0.0</td>\n",
       "    </tr>\n",
       "    <tr>\n",
       "      <td>32623</td>\n",
       "      <td>MYS</td>\n",
       "      <td>Malaysia</td>\n",
       "      <td>26/1/2020</td>\n",
       "      <td>4.0</td>\n",
       "      <td>1.0</td>\n",
       "      <td>0.0</td>\n",
       "      <td>0.0</td>\n",
       "    </tr>\n",
       "    <tr>\n",
       "      <td>32624</td>\n",
       "      <td>MYS</td>\n",
       "      <td>Malaysia</td>\n",
       "      <td>27/1/2020</td>\n",
       "      <td>4.0</td>\n",
       "      <td>0.0</td>\n",
       "      <td>0.0</td>\n",
       "      <td>0.0</td>\n",
       "    </tr>\n",
       "    <tr>\n",
       "      <td>...</td>\n",
       "      <td>...</td>\n",
       "      <td>...</td>\n",
       "      <td>...</td>\n",
       "      <td>...</td>\n",
       "      <td>...</td>\n",
       "      <td>...</td>\n",
       "      <td>...</td>\n",
       "    </tr>\n",
       "    <tr>\n",
       "      <td>32931</td>\n",
       "      <td>MYS</td>\n",
       "      <td>Malaysia</td>\n",
       "      <td>29/11/2020</td>\n",
       "      <td>64485.0</td>\n",
       "      <td>1309.0</td>\n",
       "      <td>2650368.0</td>\n",
       "      <td>15370.0</td>\n",
       "    </tr>\n",
       "    <tr>\n",
       "      <td>32932</td>\n",
       "      <td>MYS</td>\n",
       "      <td>Malaysia</td>\n",
       "      <td>30/11/2020</td>\n",
       "      <td>65697.0</td>\n",
       "      <td>1212.0</td>\n",
       "      <td>2667756.0</td>\n",
       "      <td>17388.0</td>\n",
       "    </tr>\n",
       "    <tr>\n",
       "      <td>32933</td>\n",
       "      <td>MYS</td>\n",
       "      <td>Malaysia</td>\n",
       "      <td>1/12/2020</td>\n",
       "      <td>67169.0</td>\n",
       "      <td>1472.0</td>\n",
       "      <td>2686452.0</td>\n",
       "      <td>18696.0</td>\n",
       "    </tr>\n",
       "    <tr>\n",
       "      <td>32934</td>\n",
       "      <td>MYS</td>\n",
       "      <td>Malaysia</td>\n",
       "      <td>2/12/2020</td>\n",
       "      <td>68020.0</td>\n",
       "      <td>851.0</td>\n",
       "      <td>2707207.0</td>\n",
       "      <td>20755.0</td>\n",
       "    </tr>\n",
       "    <tr>\n",
       "      <td>32935</td>\n",
       "      <td>MYS</td>\n",
       "      <td>Malaysia</td>\n",
       "      <td>3/12/2020</td>\n",
       "      <td>69095.0</td>\n",
       "      <td>1075.0</td>\n",
       "      <td>2728936.0</td>\n",
       "      <td>21729.0</td>\n",
       "    </tr>\n",
       "  </tbody>\n",
       "</table>\n",
       "<p>316 rows × 7 columns</p>\n",
       "</div>"
      ],
      "text/plain": [
       "      iso_code  location        date  total_cases  new_cases  total_tests  \\\n",
       "32620      MYS  Malaysia   23/1/2020          1.0        1.0          0.0   \n",
       "32621      MYS  Malaysia   24/1/2020          2.0        1.0          0.0   \n",
       "32622      MYS  Malaysia   25/1/2020          3.0        3.0          0.0   \n",
       "32623      MYS  Malaysia   26/1/2020          4.0        1.0          0.0   \n",
       "32624      MYS  Malaysia   27/1/2020          4.0        0.0          0.0   \n",
       "...        ...       ...         ...          ...        ...          ...   \n",
       "32931      MYS  Malaysia  29/11/2020      64485.0     1309.0    2650368.0   \n",
       "32932      MYS  Malaysia  30/11/2020      65697.0     1212.0    2667756.0   \n",
       "32933      MYS  Malaysia   1/12/2020      67169.0     1472.0    2686452.0   \n",
       "32934      MYS  Malaysia   2/12/2020      68020.0      851.0    2707207.0   \n",
       "32935      MYS  Malaysia   3/12/2020      69095.0     1075.0    2728936.0   \n",
       "\n",
       "       new_tests  \n",
       "32620        0.0  \n",
       "32621        0.0  \n",
       "32622        0.0  \n",
       "32623        0.0  \n",
       "32624        0.0  \n",
       "...          ...  \n",
       "32931    15370.0  \n",
       "32932    17388.0  \n",
       "32933    18696.0  \n",
       "32934    20755.0  \n",
       "32935    21729.0  \n",
       "\n",
       "[316 rows x 7 columns]"
      ]
     },
     "execution_count": 245,
     "metadata": {},
     "output_type": "execute_result"
    }
   ],
   "source": [
    "#We filter records for location = Malaysia\n",
    "df=df[df['iso_code']=='MYS']\n",
    "\n",
    "df\n"
   ]
  },
  {
   "cell_type": "code",
   "execution_count": 246,
   "metadata": {},
   "outputs": [
    {
     "name": "stdout",
     "output_type": "stream",
     "text": [
      "For Malaysia total count of null values is 48 and not null values is 2164 \n"
     ]
    },
    {
     "data": {
      "image/png": "[encoded data removed]",
      "text/plain": [
       "<Figure size 432x288 with 1 Axes>"
      ]
     },
     "metadata": {},
     "output_type": "display_data"
    }
   ],
   "source": [
    "# Checking for NULL values in all columns for location = Malaysia\n",
    "print('For Malaysia total count of null values is {} and not null values is {} '.format(df.isnull().sum().sum(),df.notnull().sum().sum()))\n",
    "\n",
    "counts=[df.isnull().sum().sum(),df.notnull().sum().sum()]\n",
    "labels=['Null Count','Not-Null Count']\n",
    "#colors = ['yellowgreen', 'gold', 'lightskyblue', 'lightcoral']\n",
    "#patches, texts = plt.pie(counts, colors=colors, startangle=90)\n",
    "patches, texts, junk  = plt.pie(counts, autopct='%1.1f%%',labels=labels,startangle=90)\n",
    "plt.legend(patches, labels, loc=\"upper right\")\n",
    "#There are a few null values whihc need to be cleaned up.\n",
    "plt.title(\"Cumulative count of Null and Not-null data for \\n\" + \"Malaysia Before Cleaning \", bbox={'facecolor':'0.9', 'pad':5})\n",
    "plt.show()"
   ]
  },
  {
   "cell_type": "code",
   "execution_count": 247,
   "metadata": {},
   "outputs": [
    {
     "name": "stdout",
     "output_type": "stream",
     "text": [
      "dataset has 48 null values . Kindly handle it\n"
     ]
    }
   ],
   "source": [
    "#Check for null values for location=Malaysia\n",
    "df.isnull().sum()\n",
    "\n",
    "if df.isnull().sum().sum()==0:\n",
    "    print('Dataset has no null values')\n",
    "else:\n",
    "    print('dataset has {} null values . Kindly handle it'.format(df.isnull().sum().sum()))"
   ]
  },
  {
   "cell_type": "code",
   "execution_count": 248,
   "metadata": {},
   "outputs": [
    {
     "name": "stdout",
     "output_type": "stream",
     "text": [
      "Column new_tests datatype is fine\n",
      "Column total_cases datatype is fine\n",
      "Column new_cases datatype is fine\n",
      "Column total_tests datatype is fine\n",
      "Column iso_code datatype is fine\n",
      "Column location datatype is fine\n",
      "Column date datatype is fine\n"
     ]
    }
   ],
   "source": [
    "#Check for datatype for each of column in data \n",
    "if df.dtypes['new_tests']!= np.float64:\n",
    "    print('Invalid data in columns new_tests')\n",
    "else:\n",
    "    print('Column new_tests datatype is fine')\n",
    "    \n",
    "if df.dtypes['total_cases']!= np.float64:\n",
    "    print('Invalid data in columns total_cases')\n",
    "else:\n",
    "    print('Column total_cases datatype is fine')\n",
    "    \n",
    "if df.dtypes['new_cases']!= np.float64:\n",
    "    print('Invalid data in columns new_cases')\n",
    "else:\n",
    "    print('Column new_cases datatype is fine')\n",
    "    \n",
    "if df.dtypes['total_tests']!= np.float64:\n",
    "    print('Invalid data in columns total_tests')\n",
    "else:\n",
    "    print('Column total_tests datatype is fine')\n",
    "    \n",
    "if df.dtypes['iso_code']!= np.object:\n",
    "    print('Invalid data in columns iso_code')\n",
    "else:\n",
    "    print('Column iso_code datatype is fine')\n",
    "    \n",
    "if df.dtypes['location']!= np.object:\n",
    "    print('Invalid data in columns location')\n",
    "else:\n",
    "    print('Column location datatype is fine')\n",
    "    \n",
    "if df.dtypes['date']!= np.object:\n",
    "    print('Invalid data in columns date')\n",
    "else:\n",
    "    print('Column date datatype is fine')"
   ]
  },
  {
   "cell_type": "code",
   "execution_count": 250,
   "metadata": {},
   "outputs": [
    {
     "name": "stdout",
     "output_type": "stream",
     "text": [
      "Column new_cases has 1 null values . Kindly handle it\n"
     ]
    },
    {
     "data": {
      "image/png": "[encoded data removed]",
      "text/plain": [
       "<Figure size 432x288 with 1 Axes>"
      ]
     },
     "metadata": {},
     "output_type": "display_data"
    }
   ],
   "source": [
    "# Checking if 'new_cases' column has`  null, and missing value\n",
    "df_temp=df[df['new_cases'].isnull()==True]\n",
    "\n",
    "if df['new_cases'].isnull().sum()==0:\n",
    "    print('Column new_cases has no null values')\n",
    "else:\n",
    "    print('Column new_cases has {} null values . Kindly handle it'.format(df['new_cases'].isnull().sum()))\n",
    "\n",
    "df_temp\n",
    "\n",
    "#Graphical representation of checking 'if 'new_cases' column has`  null, and missing value\n",
    "\n",
    "counts=[df['new_cases'].isnull().sum().sum(),df['new_cases'].notnull().sum().sum()]\n",
    "labels=['Null Count','Not-Null Count']\n",
    "#colors = ['yellowgreen', 'gold', 'lightskyblue', 'lightcoral']\n",
    "#patches, texts = plt.pie(counts, colors=colors, startangle=90)\n",
    "patches, texts, junk  = plt.pie(counts, autopct='%1.1f%%',labels=labels,startangle=90)\n",
    "plt.legend(patches, labels, loc=\"upper right\")\n",
    "#There are a few null values whihc need to be cleaned up.\n",
    "plt.title(\"Count of Null and Not-null values for 'new_cases' column for \\n\" + \"Malaysia \", bbox={'facecolor':'0.9', 'pad':5})\n",
    "plt.show()\n"
   ]
  },
  {
   "cell_type": "code",
   "execution_count": 251,
   "metadata": {},
   "outputs": [],
   "source": [
    "#Check and clean data for column 'new_cases' with null and missing value\n",
    "import math\n",
    "\n",
    "for index, row in df.iterrows(): \n",
    "    if np.isnan(df.loc[index, 'new_cases']):#'new_cases' column has  null, and missing values\n",
    "        if np.isnan(df.loc[index, 'total_cases']):#'total_cases' column has  null, and missing values\n",
    "            df.drop(index)#Delete the data record\n",
    "        else:\n",
    "            df.loc[index, 'new_cases'] =  df.loc[index , 'total_cases']-df.loc[(index - 1), 'total_cases']\n",
    "            #Arrange df as per 'total_cases' column in ascending order new_cases' = current 'total_cases' value - previous 'total_cases' value\n"
   ]
  },
  {
   "cell_type": "code",
   "execution_count": 252,
   "metadata": {},
   "outputs": [
    {
     "name": "stdout",
     "output_type": "stream",
     "text": [
      "Column new_cases has no null values\n"
     ]
    }
   ],
   "source": [
    "#Check and confirm if column 'new_cases' has no null values\n",
    "if df['new_cases'].isnull().sum()==0:\n",
    "    print('Column new_cases has no null values')\n",
    "else:\n",
    "    print('Column new_cases has {} null values . Kindly handle it'.format(df['new_cases'].isnull().sum()))\n"
   ]
  },
  {
   "cell_type": "code",
   "execution_count": 253,
   "metadata": {},
   "outputs": [
    {
     "data": {
      "image/png": "[encoded data removed]",
      "text/plain": [
       "<Figure size 432x288 with 1 Axes>"
      ]
     },
     "metadata": {},
     "output_type": "display_data"
    }
   ],
   "source": [
    "#Graphical representation of checking 'if 'new_cases' column has`  null, and missing value   post cleaning \n",
    "\n",
    "counts=[df['new_cases'].isnull().sum().sum(),df['new_cases'].notnull().sum().sum()]\n",
    "labels=['Null Count','Not-Null Count']\n",
    "#colors = ['yellowgreen', 'gold', 'lightskyblue', 'lightcoral']\n",
    "#patches, texts = plt.pie(counts, colors=colors, startangle=90)\n",
    "patches, texts, junk  = plt.pie(counts, autopct='%1.1f%%',labels=labels,startangle=90)\n",
    "plt.legend(patches, labels, loc=\"upper right\")\n",
    "#There are a few null values whihc need to be cleaned up.\n",
    "plt.title(\"Count of Null and Not-null values for 'new_cases' column   post cleaning for \\n\" + \"Malaysia \", bbox={'facecolor':'0.9', 'pad':5})\n",
    "plt.show()"
   ]
  },
  {
   "cell_type": "code",
   "execution_count": 254,
   "metadata": {},
   "outputs": [
    {
     "name": "stdout",
     "output_type": "stream",
     "text": [
      "Column new_tests has 47 null values . Kindly handle it\n"
     ]
    },
    {
     "data": {
      "image/png": "[encoded data removed]",
      "text/plain": [
       "<Figure size 432x288 with 1 Axes>"
      ]
     },
     "metadata": {},
     "output_type": "display_data"
    }
   ],
   "source": [
    "#Check if column 'new_tests' has  null values\n",
    "\n",
    "df[df['new_tests'].isnull()==True]\n",
    "if df['new_tests'].isnull().sum()==0:\n",
    "    print('Column new_tests has no null values')\n",
    "else:\n",
    "    print('Column new_tests has {} null values . Kindly handle it'.format(df['new_tests'].isnull().sum()))\n",
    "\n",
    "#Graphical representation of checking 'if 'new_tests' column has`  null, and missing value\n",
    "\n",
    "counts=[df['new_tests'].isnull().sum().sum(),df['new_tests'].notnull().sum().sum()]\n",
    "labels=['Null Count','Not-Null Count']\n",
    "#colors = ['yellowgreen', 'gold', 'lightskyblue', 'lightcoral']\n",
    "#patches, texts = plt.pie(counts, colors=colors, startangle=90)\n",
    "patches, texts, junk  = plt.pie(counts, autopct='%1.1f%%',labels=labels,startangle=90)\n",
    "plt.legend(patches, labels, loc=\"upper right\")\n",
    "#There are a few null values whihc need to be cleaned up.\n",
    "plt.title(\"Count of Null and Not-null values for 'new_tests' column for \\n\" + \"Malaysia \", bbox={'facecolor':'0.9', 'pad':5})\n",
    "plt.show()\n"
   ]
  },
  {
   "cell_type": "code",
   "execution_count": 255,
   "metadata": {},
   "outputs": [],
   "source": [
    "#Clean data for column 'new_tests' with null and missing value\n",
    "for index, row in df.iterrows(): \n",
    "    if np.isnan(df.loc[index, 'new_tests']):#'new_tests' column has   null, and missing values\n",
    "        if np.isnan(df.loc[index, 'total_tests']) or df.loc[index, 'total_tests']==0.0:#'total_tests' column has null, and missing values\n",
    "            df.drop(index)#Delete the data record\n",
    "        else:\n",
    "            df.loc[index, 'new_tests'] =  df.loc[index , 'total_tests']-df.loc[(index - 1), 'total_tests']\n",
    "# Arrange df as per 'total_tests' column in ascending order new_tests' = current 'total_tests' value - previous 'total_tests' value "
   ]
  },
  {
   "cell_type": "code",
   "execution_count": 256,
   "metadata": {},
   "outputs": [
    {
     "name": "stdout",
     "output_type": "stream",
     "text": [
      "Column new_tests has no null values\n"
     ]
    },
    {
     "data": {
      "image/png": "[encoded data removed]",
      "text/plain": [
       "<Figure size 432x288 with 1 Axes>"
      ]
     },
     "metadata": {},
     "output_type": "display_data"
    }
   ],
   "source": [
    "#Check if column new_tests has null values after cleaning\n",
    "\n",
    "if df['new_tests'].isnull().sum()==0:\n",
    "    print('Column new_tests has no null values')\n",
    "else:\n",
    "    print('Column new_tests has {} null values . Kindly handle it'.format(df['new_tests'].isnull().sum()))\n",
    "\n",
    "#Graphical representation of checking 'if 'new_tests' column has`  null, and missing value\n",
    "\n",
    "counts=[df['new_tests'].isnull().sum().sum(),df['new_tests'].notnull().sum().sum()]\n",
    "labels=['Null Count','Not-Null Count']\n",
    "#colors = ['yellowgreen', 'gold', 'lightskyblue', 'lightcoral']\n",
    "#patches, texts = plt.pie(counts, colors=colors, startangle=90)\n",
    "patches, texts, junk  = plt.pie(counts, autopct='%1.1f%%',labels=labels,startangle=90)\n",
    "plt.legend(patches, labels, loc=\"upper right\")\n",
    "#There are a few null values whihc need to be cleaned up.\n",
    "plt.title(\"Count of Null and Not-null values for 'new_tests' column  post cleaning for \\n\" + \"Malaysia\", bbox={'facecolor':'0.9', 'pad':5})\n",
    "plt.show()"
   ]
  },
  {
   "cell_type": "code",
   "execution_count": 257,
   "metadata": {},
   "outputs": [
    {
     "name": "stdout",
     "output_type": "stream",
     "text": [
      "Dataset has no null values\n"
     ]
    }
   ],
   "source": []
  },
  {
   "cell_type": "code",
   "execution_count": 258,
   "metadata": {},
   "outputs": [
    {
     "data": {
      "image/png": "[encoded data removed]",
      "text/plain": [
       "<Figure size 432x288 with 1 Axes>"
      ]
     },
     "metadata": {},
     "output_type": "display_data"
    }
   ],
   "source": [
    "#Check if dataset has null values for any of required columns\n",
    "\n",
    "if df.isnull().sum().sum()==0:\n",
    "    print('Dataset has no null values')\n",
    "else:\n",
    "    print('Dataset have {} null values . Kindly handle it'.format(df.isnull().sum().sum()))\n",
    "\n",
    "#Graphical representation of checking 'if dataset has`  null, and missing value\n",
    "counts=[df.isnull().sum().sum(),df.notnull().sum().sum()]\n",
    "labels=['Null Count','Not-Null Count']\n",
    "#colors = ['yellowgreen', 'gold', 'lightskyblue', 'lightcoral']\n",
    "#patches, texts = plt.pie(counts, colors=colors, startangle=90)\n",
    "patches, texts, junk  = plt.pie(counts, autopct='%1.1f%%',labels=labels,startangle=90)\n",
    "plt.legend(patches, labels, loc=\"upper right\")\n",
    "#There are a few null values whihc need to be cleaned up.\n",
    "plt.title(\"Cumulative count of Null and Not-null data \\n\" + \"Malaysia after cleaning\", bbox={'facecolor':'0.9', 'pad':5})\n",
    "plt.show()\n",
    "#No Null records present"
   ]
  },
  {
   "cell_type": "code",
   "execution_count": 261,
   "metadata": {},
   "outputs": [],
   "source": [
    "#Convert String data to date datatype for time series calcualtion\n",
    "##converting 'date' column to type 'datetime' so that indexing can happen later\n",
    "\n",
    "df['date'] = pd.to_datetime(df['date'],format=\"%d/%m/%Y\")"
   ]
  },
  {
   "cell_type": "markdown",
   "metadata": {},
   "source": [
    "### DATA Cleaning Complete since there are no null values in required columns - iso_code, location, date, total_cases, new_cases, total_tests, new_tests\n",
    "\n"
   ]
  },
  {
   "cell_type": "markdown",
   "metadata": {},
   "source": [
    "# Start with Model Building"
   ]
  },
  {
   "cell_type": "code",
   "execution_count": 262,
   "metadata": {},
   "outputs": [],
   "source": [
    "#Augmented Dickey–Fuller test (adf) is used in statistics and econometrics and it tests the null hypothesis\n",
    "#that a unit root is present in a time series sample\n",
    "#ADF: if the p-value is less than the critical value, the series is stationary\n",
    "#create Method for ADF\n",
    "from statsmodels.tsa.stattools import adfuller\n",
    "def print_adf_result(timeseries):\n",
    "    #Perform Dickey-Fuller test:\n",
    "    print ('Results of Dickey-Fuller Test:')\n",
    "    dftest = adfuller(timeseries, autolag='AIC')\n",
    "    dfoutput = pd.Series(dftest[0:4], index=['Test Statistic','p-value','#Lags Used','Number of Observations Used'])\n",
    "    for key,value in dftest[4].items():\n",
    "       dfoutput['Critical Value (%s)'%key] = value\n",
    "    print (dfoutput)\n",
    "\n"
   ]
  },
  {
   "cell_type": "code",
   "execution_count": 263,
   "metadata": {},
   "outputs": [],
   "source": [
    "#Kwiatkowski–Phillips–Schmidt–Shin (KPSS) tests are used for testing a null hypothesis that an observable \n",
    "#time series is stationary around a deterministic trend (i.e. trend-stationary) against the alternative of a unit root\n",
    "#KPSS: if the p-value is less than the critical value, the series is stationary\n",
    "\n",
    "#define function for kpss test\n",
    "from statsmodels.tsa.stattools import kpss\n",
    "def print_kpss_result(timeseries):\n",
    "    print ('Results of KPSS Test is as under:')\n",
    "    kpsstest = kpss(timeseries, regression='c')\n",
    "    kpss_output = pd.Series(kpsstest[0:3], index=['Test Statistic','p-value','Lags Used'])\n",
    "    for key,value in kpsstest[3].items():\n",
    "      kpss_output['Critical Value (%s)'%key] = value\n",
    "    print (kpss_output)\n"
   ]
  },
  {
   "cell_type": "code",
   "execution_count": 264,
   "metadata": {},
   "outputs": [
    {
     "data": {
      "text/plain": [
       "(Timestamp('2020-01-23 00:00:00'), Timestamp('2020-12-03 00:00:00'))"
      ]
     },
     "execution_count": 264,
     "metadata": {},
     "output_type": "execute_result"
    }
   ],
   "source": [
    "df['date'].min(),df['date'].max()\n",
    "#the date range of dta would e printed\n",
    "#df"
   ]
  },
  {
   "cell_type": "code",
   "execution_count": 265,
   "metadata": {},
   "outputs": [],
   "source": [
    "#Set standard for matplot parameters\n",
    "import matplotlib as mpl\n",
    "\n",
    "def set_plot_colour(COLOR):\n",
    "    mpl.rcParams['text.color'] = COLOR\n",
    "    mpl.rcParams['axes.labelcolor'] = COLOR\n",
    "    mpl.rcParams['xtick.color'] = COLOR\n",
    "    mpl.rcParams['ytick.color'] = COLOR\n",
    "    \n",
    "\n",
    "mpl.rcParams['axes.labelsize'] = 14\n",
    "mpl.rcParams['xtick.labelsize'] = 12\n",
    "mpl.rcParams['ytick.labelsize'] = 12\n",
    "#set colour\n",
    "COLOR = 'pink'\n",
    "set_plot_colour(COLOR)"
   ]
  },
  {
   "cell_type": "markdown",
   "metadata": {},
   "source": [
    "### Objective 1:\n",
    "Considering current trend of COVID-19 cases in Malaysia, I want to determine if Malaysia could achieve 14 days average of below 100 cases/day within the next 3 months(Cumulative count of new cases over 14 consecutive days should be less than 1400).\n"
   ]
  },
  {
   "cell_type": "code",
   "execution_count": 266,
   "metadata": {},
   "outputs": [],
   "source": [
    "df_cases=df[['date','new_cases']]\n",
    "#set index the data frame by ‘Date \n",
    "df_cases=df_cases.set_index('date')"
   ]
  },
  {
   "cell_type": "code",
   "execution_count": 267,
   "metadata": {},
   "outputs": [
    {
     "data": {
      "text/plain": [
       "date\n",
       "2020-01-26       1.500000\n",
       "2020-02-02       0.571429\n",
       "2020-02-09       1.142857\n",
       "2020-02-16       0.857143\n",
       "2020-02-23       0.000000\n",
       "2020-03-01       1.000000\n",
       "2020-03-08      10.000000\n",
       "2020-03-15      47.000000\n",
       "2020-03-22     125.428571\n",
       "2020-03-29     166.285714\n",
       "2020-04-05     170.285714\n",
       "2020-04-12     145.857143\n",
       "2020-04-19     100.857143\n",
       "2020-04-26      55.857143\n",
       "2020-05-03      74.000000\n",
       "2020-05-10      51.142857\n",
       "2020-05-17      34.000000\n",
       "2020-05-24      50.142857\n",
       "2020-05-31      82.000000\n",
       "2020-06-07      71.857143\n",
       "2020-06-14      18.714286\n",
       "2020-06-21      17.000000\n",
       "2020-06-28       8.857143\n",
       "2020-07-05       4.142857\n",
       "2020-07-12       7.857143\n",
       "2020-07-19       8.714286\n",
       "2020-07-26      16.857143\n",
       "2020-08-02      14.571429\n",
       "2020-08-09      12.000000\n",
       "2020-08-16      16.714286\n",
       "2020-08-23       9.571429\n",
       "2020-08-30       9.571429\n",
       "2020-09-06       9.000000\n",
       "2020-09-13      74.000000\n",
       "2020-09-20      43.428571\n",
       "2020-09-27     100.000000\n",
       "2020-10-04     208.857143\n",
       "2020-10-11     468.000000\n",
       "2020-10-18     691.571429\n",
       "2020-10-25     866.714286\n",
       "2020-11-01     848.571429\n",
       "2020-11-08    1100.571429\n",
       "2020-11-15    1029.714286\n",
       "2020-11-22    1051.142857\n",
       "2020-11-29    1387.142857\n",
       "2020-12-06    1152.500000\n",
       "Freq: W-SUN, Name: new_cases, dtype: float64"
      ]
     },
     "execution_count": 267,
     "metadata": {},
     "output_type": "execute_result"
    }
   ],
   "source": [
    "#aggregate the data from daily to Weekly in order to carry out the analysis\n",
    "cases_ts_weekly_avg = df_cases['new_cases'].resample('W').mean()\n",
    "#W : weekly frequency\n",
    "#M : month end frequency\n",
    "#SM : semi-month end frequency (15th and end of month)\n",
    "#Q : quarter end frequency\n",
    "cases_ts_weekly_avg"
   ]
  },
  {
   "cell_type": "code",
   "execution_count": 280,
   "metadata": {},
   "outputs": [
    {
     "name": "stdout",
     "output_type": "stream",
     "text": [
      "Observations: 46\n",
      "Training Observations: 32\n",
      "Testing Observations: 14\n"
     ]
    }
   ],
   "source": [
    "X = cases_ts_weekly_avg\n",
    "train_size = int(len(X) * 0.7)\n",
    "train, test = X[0:train_size], X[train_size:len(X)]\n",
    "print('Observations: %d' % (len(X)))\n",
    "print('Training Observations: %d' % (len(train)))\n",
    "print('Testing Observations: %d' % (len(test)))"
   ]
  },
  {
   "cell_type": "code",
   "execution_count": 281,
   "metadata": {},
   "outputs": [
    {
     "data": {
      "image/png": "[encoded data removed]",
      "text/plain": [
       "<Figure size 1080x576 with 1 Axes>"
      ]
     },
     "metadata": {
      "needs_background": "dark"
     },
     "output_type": "display_data"
    }
   ],
   "source": [
    "#Plotting the series\n",
    "import matplotlib.pyplot as plt\n",
    "#plt.style.use('fivethirtyeight')\n",
    "\n",
    "cases_ts_weekly_avg.plot(figsize=(15, 8))\n",
    "plt.show()"
   ]
  },
  {
   "cell_type": "code",
   "execution_count": 282,
   "metadata": {},
   "outputs": [
    {
     "data": {
      "image/png": "[encoded data removed]",
      "text/plain": [
       "<Figure size 1296x576 with 4 Axes>"
      ]
     },
     "metadata": {
      "needs_background": "dark"
     },
     "output_type": "display_data"
    }
   ],
   "source": [
    "#decomposed time series to get components Trend, Seasonality &  Noise\n",
    "from pylab import rcParams\n",
    "import statsmodels.api as sm\n",
    "\n",
    "rcParams['figure.figsize'] = 18, 8\n",
    "decomposition = sm.tsa.seasonal_decompose(cases_ts_weekly_avg, model='additive', extrapolate_trend='freq', period=1)\n",
    "fig = decomposition.plot()\n",
    "plt.show()"
   ]
  },
  {
   "cell_type": "code",
   "execution_count": 303,
   "metadata": {},
   "outputs": [
    {
     "data": {
      "image/png": "[encoded data removed]",
      "text/plain": [
       "<Figure size 1296x576 with 1 Axes>"
      ]
     },
     "metadata": {
      "needs_background": "dark"
     },
     "output_type": "display_data"
    },
    {
     "data": {
      "image/png": "[encoded data removed]",
      "text/plain": [
       "<Figure size 1296x576 with 1 Axes>"
      ]
     },
     "metadata": {
      "needs_background": "dark"
     },
     "output_type": "display_data"
    }
   ],
   "source": [
    "# Plotting the Auto Correlation Function(ACF) and Partial Auto Correlation Function(PACF) Plot of the Trend and Seasonally adjusted Time Series data\n",
    "#to determine  p and seasonal P, q and seasonal Q\n",
    "from statsmodels.graphics.tsaplots import plot_acf, plot_pacf\n",
    "#Plot the autocorrelation function\n",
    "\n",
    "plot_acf(cases_ts_weekly_avg,use_vlines=True,adjusted=True,title='Graph of Auto corelation', lags=45)\n",
    "mpl.pyplot.show()\n",
    "#The trendwas initially decreasing in initial few weeks and then it started increasing . The change in trend results in change in corelation.\n",
    "#ACF plot Spikes at lag =1 means a probable Autoregressive(AR)  order of 1 and seasonal AR order of 1\n",
    "\n",
    "#Plots lags on the horizontal and the partial correlations on vertical axis for time-series data using method='ols'.\n",
    "plot_pacf(cases_ts_weekly_avg,use_vlines=True,method='ols' ,title='Graph of Partial Auto corelation', lags=22)\n",
    "mpl.pyplot.show()\n",
    "#PACF plot spikes at lag=1 and then spikes at lag=10 & lag=20, which means a probable Moving Average(MA) order of 1 or 2 and seasonal MA order of 1 "
   ]
  },
  {
   "cell_type": "code",
   "execution_count": 30,
   "metadata": {},
   "outputs": [
    {
     "name": "stdout",
     "output_type": "stream",
     "text": [
      "Results of Dickey-Fuller Test:\n",
      "Test Statistic                  0.709449\n",
      "p-value                         0.990025\n",
      "#Lags Used                      4.000000\n",
      "Number of Observations Used    41.000000\n",
      "Critical Value (1%)            -3.600983\n",
      "Critical Value (5%)            -2.935135\n",
      "Critical Value (10%)           -2.605963\n",
      "dtype: float64\n",
      "None\n",
      "Results of KPSS Test is as under:\n",
      "Test Statistic            0.371216\n",
      "p-value                   0.089562\n",
      "Lags Used                10.000000\n",
      "Critical Value (10%)      0.347000\n",
      "Critical Value (5%)       0.463000\n",
      "Critical Value (2.5%)     0.574000\n",
      "Critical Value (1%)       0.739000\n",
      "dtype: float64\n",
      "None\n"
     ]
    }
   ],
   "source": [
    "#apply adf test and kpss test on the series to check whether series is stationery\n",
    "print(print_adf_result(cases_ts_weekly_avg))\n",
    "print(print_kpss_result(cases_ts_weekly_avg))\n",
    "#ADF: if the p-value is less than the critical value , the series is stationary\n",
    "#P valie is 0.99 whihc is not less than critical value of 0.05 so statistically we can confirm that the series is not stationary.\n",
    "#Hence, we would do first-order differencing for the trend and re-run the ADF test to check for stationarity."
   ]
  },
  {
   "cell_type": "code",
   "execution_count": 321,
   "metadata": {},
   "outputs": [
    {
     "name": "stdout",
     "output_type": "stream",
     "text": [
      "Results of Dickey-Fuller Test:\n",
      "Test Statistic                 -2.363413\n",
      "p-value                         0.152330\n",
      "#Lags Used                      3.000000\n",
      "Number of Observations Used    41.000000\n",
      "Critical Value (1%)            -3.600983\n",
      "Critical Value (5%)            -2.935135\n",
      "Critical Value (10%)           -2.605963\n",
      "dtype: float64\n",
      "None\n",
      "Results of KPSS Test is as under:\n",
      "Test Statistic            0.283138\n",
      "p-value                   0.100000\n",
      "Lags Used                10.000000\n",
      "Critical Value (10%)      0.347000\n",
      "Critical Value (5%)       0.463000\n",
      "Critical Value (2.5%)     0.574000\n",
      "Critical Value (1%)       0.739000\n",
      "dtype: float64\n",
      "None\n"
     ]
    },
    {
     "name": "stderr",
     "output_type": "stream",
     "text": [
      "C:\\Users\\rupes\\AppData\\Roaming\\Python\\Python37\\site-packages\\statsmodels\\tsa\\stattools.py:1886: InterpolationWarning: The test statistic is outside of the range of p-values available in the\n",
      "look-up table. The actual p-value is greater than the p-value returned.\n",
      "\n",
      "  warn_msg.format(direction=\"greater\"), InterpolationWarning\n"
     ]
    }
   ],
   "source": [
    "#Doing First Order differencing\n",
    "ts_cases_adj = cases_ts_weekly_avg - cases_ts_weekly_avg.shift(1)\n",
    "#ts_cases_adj =cases_ts_weekly_avg\n",
    "ts_cases_adj = ts_cases_adj.dropna()\n",
    "#ts_cases_adj.plot()\n",
    "print(print_adf_result(ts_cases_adj))\n",
    "print(print_kpss_result(ts_cases_adj))\n",
    "#For first oder differencing p =0.15 NOT less than 0.05 so going for second order differencing"
   ]
  },
  {
   "cell_type": "code",
   "execution_count": 322,
   "metadata": {},
   "outputs": [
    {
     "name": "stdout",
     "output_type": "stream",
     "text": [
      "Results of Dickey-Fuller Test:\n",
      "Test Statistic                 -0.447880\n",
      "p-value                         0.901792\n",
      "#Lags Used                      6.000000\n",
      "Number of Observations Used    37.000000\n",
      "Critical Value (1%)            -3.620918\n",
      "Critical Value (5%)            -2.943539\n",
      "Critical Value (10%)           -2.610400\n",
      "dtype: float64\n",
      "None\n",
      "Results of KPSS Test is as under:\n",
      "Test Statistic            0.33223\n",
      "p-value                   0.10000\n",
      "Lags Used                10.00000\n",
      "Critical Value (10%)      0.34700\n",
      "Critical Value (5%)       0.46300\n",
      "Critical Value (2.5%)     0.57400\n",
      "Critical Value (1%)       0.73900\n",
      "dtype: float64\n",
      "None\n"
     ]
    },
    {
     "name": "stderr",
     "output_type": "stream",
     "text": [
      "C:\\Users\\rupes\\AppData\\Roaming\\Python\\Python37\\site-packages\\statsmodels\\tsa\\stattools.py:1886: InterpolationWarning: The test statistic is outside of the range of p-values available in the\n",
      "look-up table. The actual p-value is greater than the p-value returned.\n",
      "\n",
      "  warn_msg.format(direction=\"greater\"), InterpolationWarning\n"
     ]
    }
   ],
   "source": [
    "#Doing Second Order differencing\n",
    "ts_cases_adj = cases_ts_weekly_avg - cases_ts_weekly_avg.shift(2)\n",
    "#ts_cases_adj =cases_ts_weekly_avg\n",
    "ts_cases_adj = ts_cases_adj.dropna()\n",
    "#ts_cases_adj.plot()\n",
    "print(print_adf_result(ts_cases_adj))\n",
    "print(print_kpss_result(ts_cases_adj))\n",
    "#For Second oder differencing p =0.90 NOT less than 0.05 so going for Third order differencing"
   ]
  },
  {
   "cell_type": "code",
   "execution_count": 323,
   "metadata": {},
   "outputs": [
    {
     "name": "stdout",
     "output_type": "stream",
     "text": [
      "Results of Dickey-Fuller Test:\n",
      "Test Statistic                 -1.741176\n",
      "p-value                         0.410032\n",
      "#Lags Used                      0.000000\n",
      "Number of Observations Used    42.000000\n",
      "Critical Value (1%)            -3.596636\n",
      "Critical Value (5%)            -2.933297\n",
      "Critical Value (10%)           -2.604991\n",
      "dtype: float64\n",
      "None\n",
      "Results of KPSS Test is as under:\n",
      "Test Statistic            0.322266\n",
      "p-value                   0.100000\n",
      "Lags Used                10.000000\n",
      "Critical Value (10%)      0.347000\n",
      "Critical Value (5%)       0.463000\n",
      "Critical Value (2.5%)     0.574000\n",
      "Critical Value (1%)       0.739000\n",
      "dtype: float64\n",
      "None\n"
     ]
    },
    {
     "name": "stderr",
     "output_type": "stream",
     "text": [
      "C:\\Users\\rupes\\AppData\\Roaming\\Python\\Python37\\site-packages\\statsmodels\\tsa\\stattools.py:1886: InterpolationWarning: The test statistic is outside of the range of p-values available in the\n",
      "look-up table. The actual p-value is greater than the p-value returned.\n",
      "\n",
      "  warn_msg.format(direction=\"greater\"), InterpolationWarning\n"
     ]
    }
   ],
   "source": [
    "#Doing Third Order differencing\n",
    "ts_cases_adj = cases_ts_weekly_avg - cases_ts_weekly_avg.shift(3)\n",
    "#ts_cases_adj =cases_ts_weekly_avg\n",
    "ts_cases_adj = ts_cases_adj.dropna()\n",
    "#ts_cases_adj.plot()\n",
    "print(print_adf_result(ts_cases_adj))\n",
    "print(print_kpss_result(ts_cases_adj))\n",
    "#For Second oder differencing p =0.41 NOT less than 0.05 so going for Fourth order differencing"
   ]
  },
  {
   "cell_type": "code",
   "execution_count": 324,
   "metadata": {},
   "outputs": [
    {
     "name": "stdout",
     "output_type": "stream",
     "text": [
      "Results of Dickey-Fuller Test:\n",
      "Test Statistic                 -1.053945\n",
      "p-value                         0.733085\n",
      "#Lags Used                      5.000000\n",
      "Number of Observations Used    36.000000\n",
      "Critical Value (1%)            -3.626652\n",
      "Critical Value (5%)            -2.945951\n",
      "Critical Value (10%)           -2.611671\n",
      "dtype: float64\n",
      "None\n",
      "Results of KPSS Test is as under:\n",
      "Test Statistic            0.320102\n",
      "p-value                   0.100000\n",
      "Lags Used                10.000000\n",
      "Critical Value (10%)      0.347000\n",
      "Critical Value (5%)       0.463000\n",
      "Critical Value (2.5%)     0.574000\n",
      "Critical Value (1%)       0.739000\n",
      "dtype: float64\n",
      "None\n"
     ]
    },
    {
     "name": "stderr",
     "output_type": "stream",
     "text": [
      "C:\\Users\\rupes\\AppData\\Roaming\\Python\\Python37\\site-packages\\statsmodels\\tsa\\stattools.py:1886: InterpolationWarning: The test statistic is outside of the range of p-values available in the\n",
      "look-up table. The actual p-value is greater than the p-value returned.\n",
      "\n",
      "  warn_msg.format(direction=\"greater\"), InterpolationWarning\n"
     ]
    }
   ],
   "source": [
    "#Doing fourth Order differencing\n",
    "ts_cases_adj = cases_ts_weekly_avg - cases_ts_weekly_avg.shift(4)\n",
    "#ts_cases_adj =cases_ts_weekly_avg\n",
    "ts_cases_adj = ts_cases_adj.dropna()\n",
    "#ts_cases_adj.plot()\n",
    "print(print_adf_result(ts_cases_adj))\n",
    "print(print_kpss_result(ts_cases_adj))\n",
    "#For Second oder differencing p =0.73 NOT less than 0.05 so going for Fifth order differencing"
   ]
  },
  {
   "cell_type": "code",
   "execution_count": 325,
   "metadata": {},
   "outputs": [
    {
     "name": "stdout",
     "output_type": "stream",
     "text": [
      "Results of Dickey-Fuller Test:\n",
      "Test Statistic                 -1.241076\n",
      "p-value                         0.655681\n",
      "#Lags Used                      0.000000\n",
      "Number of Observations Used    40.000000\n",
      "Critical Value (1%)            -3.605565\n",
      "Critical Value (5%)            -2.937069\n",
      "Critical Value (10%)           -2.606986\n",
      "dtype: float64\n",
      "None\n",
      "Results of KPSS Test is as under:\n",
      "Test Statistic            0.327288\n",
      "p-value                   0.100000\n",
      "Lags Used                10.000000\n",
      "Critical Value (10%)      0.347000\n",
      "Critical Value (5%)       0.463000\n",
      "Critical Value (2.5%)     0.574000\n",
      "Critical Value (1%)       0.739000\n",
      "dtype: float64\n",
      "None\n"
     ]
    },
    {
     "name": "stderr",
     "output_type": "stream",
     "text": [
      "C:\\Users\\rupes\\AppData\\Roaming\\Python\\Python37\\site-packages\\statsmodels\\tsa\\stattools.py:1886: InterpolationWarning: The test statistic is outside of the range of p-values available in the\n",
      "look-up table. The actual p-value is greater than the p-value returned.\n",
      "\n",
      "  warn_msg.format(direction=\"greater\"), InterpolationWarning\n"
     ]
    }
   ],
   "source": [
    "#Doing Fifth Order differencing\n",
    "ts_cases_adj = cases_ts_weekly_avg - cases_ts_weekly_avg.shift(5)\n",
    "#ts_cases_adj =cases_ts_weekly_avg\n",
    "ts_cases_adj = ts_cases_adj.dropna()\n",
    "#ts_cases_adj.plot()\n",
    "print(print_adf_result(ts_cases_adj))\n",
    "print(print_kpss_result(ts_cases_adj))\n",
    "#For Second oder differencing p =0.65 NOT less than 0.05 so going for Sixth order differencing"
   ]
  },
  {
   "cell_type": "code",
   "execution_count": 327,
   "metadata": {},
   "outputs": [
    {
     "name": "stdout",
     "output_type": "stream",
     "text": [
      "Results of Dickey-Fuller Test:\n",
      "Test Statistic                 -3.967057\n",
      "p-value                         0.001593\n",
      "#Lags Used                      3.000000\n",
      "Number of Observations Used    36.000000\n",
      "Critical Value (1%)            -3.626652\n",
      "Critical Value (5%)            -2.945951\n",
      "Critical Value (10%)           -2.611671\n",
      "dtype: float64\n",
      "None\n",
      "Results of KPSS Test is as under:\n",
      "Test Statistic            0.326064\n",
      "p-value                   0.100000\n",
      "Lags Used                10.000000\n",
      "Critical Value (10%)      0.347000\n",
      "Critical Value (5%)       0.463000\n",
      "Critical Value (2.5%)     0.574000\n",
      "Critical Value (1%)       0.739000\n",
      "dtype: float64\n",
      "None\n"
     ]
    },
    {
     "name": "stderr",
     "output_type": "stream",
     "text": [
      "C:\\Users\\rupes\\AppData\\Roaming\\Python\\Python37\\site-packages\\statsmodels\\tsa\\stattools.py:1886: InterpolationWarning: The test statistic is outside of the range of p-values available in the\n",
      "look-up table. The actual p-value is greater than the p-value returned.\n",
      "\n",
      "  warn_msg.format(direction=\"greater\"), InterpolationWarning\n"
     ]
    }
   ],
   "source": [
    "#Doing Sixth Order differencing\n",
    "ts_cases_adj = cases_ts_weekly_avg - cases_ts_weekly_avg.shift(6)\n",
    "#ts_cases_adj =cases_ts_weekly_avg\n",
    "ts_cases_adj = ts_cases_adj.dropna()\n",
    "#ts_cases_adj.plot()\n",
    "print(print_adf_result(ts_cases_adj))\n",
    "print(print_kpss_result(ts_cases_adj))\n",
    "#For Second oder differencing p =0.001 which is less than 0.05 so the series is now trend stationary"
   ]
  },
  {
   "cell_type": "code",
   "execution_count": 357,
   "metadata": {},
   "outputs": [
    {
     "data": {
      "image/png": "[encoded data removed]",
      "text/plain": [
       "<Figure size 1080x576 with 1 Axes>"
      ]
     },
     "metadata": {
      "needs_background": "dark"
     },
     "output_type": "display_data"
    }
   ],
   "source": [
    "#Plotting the adjuste new_cases\n",
    "ts_cases_adj.plot(figsize=(15, 8))\n",
    "plt.show()\n"
   ]
  },
  {
   "cell_type": "code",
   "execution_count": 358,
   "metadata": {},
   "outputs": [],
   "source": [
    "#The Adjusted New cases shows sudden drop in new_cases which is not true, rejecteing differencing\n",
    "ts_cases_adj=cases_ts_weekly_avg"
   ]
  },
  {
   "cell_type": "code",
   "execution_count": 359,
   "metadata": {},
   "outputs": [
    {
     "name": "stdout",
     "output_type": "stream",
     "text": [
      "[(0, 1, 0), (0, 1, 1), (0, 1, 2), (0, 1, 3), (1, 1, 0), (1, 1, 1), (1, 1, 2), (1, 1, 3), (2, 1, 0), (2, 1, 1), (2, 1, 2), (2, 1, 3)]\n",
      "Examples of parameter combinations for Seasonal SARIMA...\n",
      "SARIMAX: (0, 1, 1) x (0, 1, 1, 12)\n",
      "SARIMAX: (0, 1, 1) x (0, 1, 2, 12)\n",
      "SARIMAX: (0, 1, 2) x (0, 1, 3, 12)\n"
     ]
    },
    {
     "data": {
      "text/plain": [
       "[(0, 1, 0, 12),\n",
       " (0, 1, 1, 12),\n",
       " (0, 1, 2, 12),\n",
       " (0, 1, 3, 12),\n",
       " (1, 1, 0, 12),\n",
       " (1, 1, 1, 12),\n",
       " (1, 1, 2, 12),\n",
       " (1, 1, 3, 12),\n",
       " (2, 1, 0, 12),\n",
       " (2, 1, 1, 12),\n",
       " (2, 1, 2, 12),\n",
       " (2, 1, 3, 12)]"
      ]
     },
     "execution_count": 359,
     "metadata": {},
     "output_type": "execute_result"
    }
   ],
   "source": [
    "import itertools\n",
    "import statsmodels.api as sm\n",
    "#The variables p,P,d,D,q,Q are defined as under\n",
    "#p and seasonal P: indicate the number of AR terms (lags of the stationary series)\n",
    "#d and seasonal D: indicate differencing that must be done to stationary series\n",
    "#q and seasonal Q: indicate the number of MA terms (lags of the forecast errors)\n",
    "#lag: indicates the seasonal length in the data\n",
    "#setting prameters for SARIMA\n",
    "\n",
    "p = range(0, 3)\n",
    "d = range(1,2)\n",
    "q = range(0, 4)\n",
    "\n",
    "pdq = list(itertools.product(p, d, q))\n",
    "print(pdq)\n",
    "seasonal_pdq = [(x[0], x[1], x[2], 12) for x in list(itertools.product(p, d, q))]\n",
    "print('Examples of parameter combinations for Seasonal SARIMA...')\n",
    "print('SARIMAX: {} x {}'.format(pdq[1], seasonal_pdq[1]))\n",
    "print('SARIMAX: {} x {}'.format(pdq[1], seasonal_pdq[2]))\n",
    "print('SARIMAX: {} x {}'.format(pdq[2], seasonal_pdq[3]))\n",
    "seasonal_pdq\n"
   ]
  },
  {
   "cell_type": "code",
   "execution_count": null,
   "metadata": {},
   "outputs": [
    {
     "name": "stdout",
     "output_type": "stream",
     "text": [
      "Optimization terminated successfully.\n",
      "         Current function value: 4.447524\n",
      "         Iterations: 2\n",
      "         Function evaluations: 40\n",
      "ARIMA(0, 1, 0)x(0, 1, 0, 12)12 - AIC:411.17224224197446\n",
      "Optimization terminated successfully.\n",
      "         Current function value: 4.447461\n",
      "         Iterations: 2\n",
      "         Function evaluations: 45\n",
      "ARIMA(0, 1, 0)x(0, 1, 1, 12)12 - AIC:413.1664034249972\n",
      "Optimization terminated successfully.\n",
      "         Current function value: 4.443125\n",
      "         Iterations: 2\n",
      "         Function evaluations: 68\n",
      "ARIMA(0, 1, 0)x(0, 1, 2, 12)12 - AIC:414.7674856392271\n",
      "Optimization terminated successfully.\n",
      "         Current function value: 4.443231\n",
      "         Iterations: 3\n",
      "         Function evaluations: 145\n",
      "ARIMA(0, 1, 0)x(0, 1, 3, 12)12 - AIC:416.77726225783914\n",
      "Optimization terminated successfully.\n",
      "         Current function value: 4.447490\n",
      "         Iterations: 2\n",
      "         Function evaluations: 44\n",
      "ARIMA(0, 1, 0)x(1, 1, 0, 12)12 - AIC:413.1690913907694\n",
      "Optimization terminated successfully.\n",
      "         Current function value: 4.447477\n",
      "         Iterations: 2\n",
      "         Function evaluations: 76\n",
      "ARIMA(0, 1, 0)x(1, 1, 1, 12)12 - AIC:415.1678773833321\n",
      "Optimization terminated successfully.\n",
      "         Current function value: 4.443125\n",
      "         Iterations: 2\n",
      "         Function evaluations: 91\n",
      "ARIMA(0, 1, 0)x(1, 1, 2, 12)12 - AIC:416.76749996653956\n",
      "Optimization terminated successfully.\n",
      "         Current function value: 4.443273\n",
      "         Iterations: 3\n",
      "         Function evaluations: 181\n",
      "ARIMA(0, 1, 0)x(1, 1, 3, 12)12 - AIC:418.7811484670265\n",
      "Optimization terminated successfully.\n",
      "         Current function value: 4.443125\n",
      "         Iterations: 3\n",
      "         Function evaluations: 109\n",
      "ARIMA(0, 1, 0)x(2, 1, 0, 12)12 - AIC:414.76754511282417\n",
      "Optimization terminated successfully.\n",
      "         Current function value: 4.443126\n",
      "         Iterations: 2\n",
      "         Function evaluations: 87\n",
      "ARIMA(0, 1, 0)x(2, 1, 1, 12)12 - AIC:416.7675599586791\n",
      "Optimization terminated successfully.\n",
      "         Current function value: 4.443126\n",
      "         Iterations: 2\n",
      "         Function evaluations: 111\n",
      "ARIMA(0, 1, 0)x(2, 1, 2, 12)12 - AIC:418.76756179498483\n",
      "Optimization terminated successfully.\n",
      "         Current function value: 4.443334\n",
      "         Iterations: 2\n",
      "         Function evaluations: 134\n",
      "ARIMA(0, 1, 0)x(2, 1, 3, 12)12 - AIC:420.78669985627477\n",
      "Optimization terminated successfully.\n",
      "         Current function value: 4.446727\n",
      "         Iterations: 2\n",
      "         Function evaluations: 48\n",
      "ARIMA(0, 1, 1)x(0, 1, 0, 12)12 - AIC:413.0988654528452\n",
      "Optimization terminated successfully.\n",
      "         Current function value: 4.446701\n",
      "         Iterations: 2\n",
      "         Function evaluations: 69\n",
      "ARIMA(0, 1, 1)x(0, 1, 1, 12)12 - AIC:415.09649303020944\n",
      "Optimization terminated successfully.\n",
      "         Current function value: 4.442341\n",
      "         Iterations: 2\n",
      "         Function evaluations: 92\n",
      "ARIMA(0, 1, 1)x(0, 1, 2, 12)12 - AIC:416.69534257929763\n",
      "Optimization terminated successfully.\n",
      "         Current function value: 4.442339\n",
      "         Iterations: 2\n",
      "         Function evaluations: 114\n",
      "ARIMA(0, 1, 1)x(0, 1, 3, 12)12 - AIC:418.6952168974926\n",
      "Optimization terminated successfully.\n",
      "         Current function value: 4.446713\n",
      "         Iterations: 2\n",
      "         Function evaluations: 69\n",
      "ARIMA(0, 1, 1)x(1, 1, 0, 12)12 - AIC:415.0976002324745\n",
      "Optimization terminated successfully.\n",
      "         Current function value: 4.446709\n",
      "         Iterations: 2\n",
      "         Function evaluations: 90\n",
      "ARIMA(0, 1, 1)x(1, 1, 1, 12)12 - AIC:417.0972568293402\n",
      "Optimization terminated successfully.\n",
      "         Current function value: 4.442341\n",
      "         Iterations: 2\n",
      "         Function evaluations: 113\n",
      "ARIMA(0, 1, 1)x(1, 1, 2, 12)12 - AIC:418.69535512917605\n",
      "Optimization terminated successfully.\n",
      "         Current function value: 4.442339\n",
      "         Iterations: 2\n",
      "         Function evaluations: 135\n",
      "ARIMA(0, 1, 1)x(1, 1, 3, 12)12 - AIC:420.69522259260657\n",
      "Optimization terminated successfully.\n",
      "         Current function value: 4.442341\n",
      "         Iterations: 2\n",
      "         Function evaluations: 90\n",
      "ARIMA(0, 1, 1)x(2, 1, 0, 12)12 - AIC:416.69537633837444\n",
      "Optimization terminated successfully.\n",
      "         Current function value: 4.442341\n",
      "         Iterations: 2\n",
      "         Function evaluations: 112\n",
      "ARIMA(0, 1, 1)x(2, 1, 1, 12)12 - AIC:418.6953829751398\n",
      "Optimization terminated successfully.\n",
      "         Current function value: 4.442341\n",
      "         Iterations: 2\n",
      "         Function evaluations: 136\n",
      "ARIMA(0, 1, 1)x(2, 1, 2, 12)12 - AIC:420.69538258980884\n",
      "Optimization terminated successfully.\n",
      "         Current function value: 4.442339\n",
      "         Iterations: 2\n",
      "         Function evaluations: 158\n",
      "ARIMA(0, 1, 1)x(2, 1, 3, 12)12 - AIC:422.6951633863987\n",
      "Optimization terminated successfully.\n",
      "         Current function value: 4.387372\n",
      "         Iterations: 2\n",
      "         Function evaluations: 72\n",
      "ARIMA(0, 1, 2)x(0, 1, 0, 12)12 - AIC:409.6382686540549\n",
      "Optimization terminated successfully.\n",
      "         Current function value: 4.384343\n",
      "         Iterations: 3\n",
      "         Function evaluations: 135\n",
      "ARIMA(0, 1, 2)x(0, 1, 1, 12)12 - AIC:411.3595788897762\n",
      "Optimization terminated successfully.\n",
      "         Current function value: 4.379341\n",
      "         Iterations: 3\n",
      "         Function evaluations: 168\n",
      "ARIMA(0, 1, 2)x(0, 1, 2, 12)12 - AIC:412.8994007204799\n",
      "Optimization terminated successfully.\n",
      "         Current function value: 4.379335\n",
      "         Iterations: 3\n",
      "         Function evaluations: 202\n",
      "ARIMA(0, 1, 2)x(0, 1, 3, 12)12 - AIC:414.8987744205682\n",
      "Optimization terminated successfully.\n",
      "         Current function value: 4.385880\n",
      "         Iterations: 3\n",
      "         Function evaluations: 135\n",
      "ARIMA(0, 1, 2)x(1, 1, 0, 12)12 - AIC:411.5009499270163\n",
      "Optimization terminated successfully.\n",
      "         Current function value: 4.380717\n",
      "         Iterations: 6\n",
      "         Function evaluations: 353\n",
      "ARIMA(0, 1, 2)x(1, 1, 1, 12)12 - AIC:413.02600030313937\n",
      "Optimization terminated successfully.\n",
      "         Current function value: 4.379335\n",
      "         Iterations: 3\n",
      "         Function evaluations: 201\n",
      "ARIMA(0, 1, 2)x(1, 1, 2, 12)12 - AIC:414.8988177798593\n",
      "Optimization terminated successfully.\n",
      "         Current function value: 4.379332\n",
      "         Iterations: 3\n",
      "         Function evaluations: 233\n",
      "ARIMA(0, 1, 2)x(1, 1, 3, 12)12 - AIC:416.89853444727476\n",
      "Optimization terminated successfully.\n",
      "         Current function value: 4.379330\n",
      "         Iterations: 3\n",
      "         Function evaluations: 167\n",
      "ARIMA(0, 1, 2)x(2, 1, 0, 12)12 - AIC:412.8983339636305\n",
      "Optimization terminated successfully.\n",
      "         Current function value: 4.379330\n",
      "         Iterations: 3\n",
      "         Function evaluations: 200\n",
      "ARIMA(0, 1, 2)x(2, 1, 1, 12)12 - AIC:414.898326216511\n",
      "Optimization terminated successfully.\n",
      "         Current function value: 4.379330\n",
      "         Iterations: 3\n",
      "         Function evaluations: 236\n",
      "ARIMA(0, 1, 2)x(2, 1, 2, 12)12 - AIC:416.8983272106298\n",
      "Optimization terminated successfully.\n",
      "         Current function value: 4.379329\n",
      "         Iterations: 3\n",
      "         Function evaluations: 270\n",
      "ARIMA(0, 1, 2)x(2, 1, 3, 12)12 - AIC:418.8982308215912\n",
      "Optimization terminated successfully.\n",
      "         Current function value: 4.386269\n",
      "         Iterations: 5\n",
      "         Function evaluations: 252\n",
      "ARIMA(0, 1, 3)x(0, 1, 0, 12)12 - AIC:411.5367296583622\n",
      "Optimization terminated successfully.\n",
      "         Current function value: 4.385707\n",
      "         Iterations: 5\n",
      "         Function evaluations: 309\n",
      "ARIMA(0, 1, 3)x(0, 1, 1, 12)12 - AIC:413.48501247734407\n"
     ]
    }
   ],
   "source": [
    "#Performing a grid search with the list of possible values around our estimated parameters. We have to  pick the model with the least AIC.\n",
    "for param in pdq:\n",
    "    for param_seasonal in seasonal_pdq:\n",
    "        try:\n",
    "            mod = sm.tsa.statespace.SARIMAX(ts_cases_adj,\n",
    "                                            order=param,\n",
    "                                            seasonal_order=param_seasonal,)\n",
    "            results = mod.fit(method = 'powell')\n",
    "            print('ARIMA{}x{}12 - AIC:{}'.format(param, param_seasonal, results.aic))\n",
    "        except:\n",
    "            continue\n",
    "#AIC (Akaike information criterion) is an estimator of the relative quality of statistical models for a given set of data"
   ]
  },
  {
   "cell_type": "code",
   "execution_count": null,
   "metadata": {},
   "outputs": [],
   "source": [
    "#getting values which has minimum AIC for the time series data\n",
    "#ARIMA(0, 1, 3)x(0, 1, 0, 12)12 - AIC:344.82190383695524\n",
    "\n",
    "mod = sm.tsa.statespace.SARIMAX(ts_cases_adj,\n",
    "                                            order=(0, 1, 3),\n",
    "                                seasonal_order=(0, 1, 0, 12))\n",
    "#Fitting model using POWELL method: Powell method, is an algorithm proposed  for finding a local minimum of a function\n",
    "results = mod.fit(method = 'powell')\n",
    "#Print the results\n",
    "print(results.summary().tables[1])\n"
   ]
  },
  {
   "cell_type": "code",
   "execution_count": null,
   "metadata": {
    "scrolled": true
   },
   "outputs": [],
   "source": [
    "# Plotting the ACF and PACF Plot of the Trend and Seasonally adjusted Time Series data\n",
    "from statsmodels.graphics.tsaplots import plot_acf, plot_pacf\n",
    "plot_acf(ts_cases_adj)\n",
    "mpl.pyplot.show()\n",
    "plot_pacf(ts_cases_adj)\n",
    "mpl.pyplot.show()"
   ]
  },
  {
   "cell_type": "code",
   "execution_count": null,
   "metadata": {},
   "outputs": [],
   "source": [
    "#Plotting Standard residual for the new_cases, HIstogram plot of the cases and Density plot, Normal Q-Q and corelogram\n",
    "results.plot_diagnostics(figsize=(18, 8))\n",
    "plt.show()"
   ]
  },
  {
   "cell_type": "code",
   "execution_count": null,
   "metadata": {},
   "outputs": [],
   "source": [
    "#Valudate the Model versus the actual data\n",
    "pred = results.get_prediction(start=pd.to_datetime('2020-08-02'), dynamic=False)\n",
    "#Valudate the Model versus the actual data\n",
    "pred_ci = pred.conf_int()\n",
    "ax = ts_cases_adj.plot(label='Observed (Actual)')\n",
    "pred.predicted_mean.plot(ax=ax, label='Forecast', alpha=.7, figsize=(14, 4))\n",
    "ax.fill_between(pred_ci.index,\n",
    "                pred_ci.iloc[:, 0],\n",
    "                pred_ci.iloc[:, 1], color='k', alpha=.2)\n",
    "ax.set_xlabel('Date')\n",
    "ax.set_ylabel('New Cases')\n",
    "plt.legend()\n",
    "plt.show()"
   ]
  },
  {
   "cell_type": "code",
   "execution_count": null,
   "metadata": {},
   "outputs": [],
   "source": [
    "#Calculate the predicted results versus actual values\n",
    "y_forecasted = pred.predicted_mean\n",
    "y_truth = ts_cases_adj['2020-08-02':]\n",
    "#Calculate Mean Squared Error\n",
    "mse = ((y_forecasted - y_truth) ** 2).mean()\n",
    "mse=round(mse, 2)\n",
    "print('The Mean Squared Error is {}'.format(mse))\n",
    "#Calculate Root Mean Squared Error\n",
    "rmse=round(np.sqrt(mse), 2)\n",
    "print('The Root Mean Squared Error is {}'.format(rmse))\n",
    "#Calculate R-squared Error or Coefficient of Determination:The % variation of y on variation with x\n",
    "from sklearn.metrics import r2_score \n",
    "r_squared=r2_score(y_truth, y_forecasted)\n",
    "print('R-squared Error is {}'.format(r_squared))\n",
    "\n",
    "#Since the R squared error is approximately 0.85 closer to 1 the model can predict the values of future cases with a narrow margin of error\n",
    "#prediction model accuracy is 84.48% whihc is acceptable."
   ]
  },
  {
   "cell_type": "code",
   "execution_count": null,
   "metadata": {
    "scrolled": true
   },
   "outputs": [],
   "source": [
    "#Future Predict the results for next 16 weeks\n",
    "pred_uc = results.get_forecast(steps=16)\n",
    "pred_ci = pred_uc.conf_int()\n",
    "ax = ts_cases_adj.plot(label='Observed(Actual)', figsize=(14, 6))\n",
    "pred_uc.predicted_mean.plot(ax=ax, label='Forecast')\n",
    "ax.fill_between(pred_ci.index,\n",
    "                pred_ci.iloc[:, 0],\n",
    "                pred_ci.iloc[:, 1], color='k', alpha=.25)\n",
    "ax.set_xlabel('Date')\n",
    "ax.set_ylabel('New Cases')\n",
    "plt.legend()\n",
    "\n",
    "\n",
    "\n",
    "\n",
    "plt.show()\n",
    "#Since we are preicting weekly average the value is calcualted on every Sunday . The gap in graph shows aperiod between \n",
    "#on a gap of a week 06-Dec-2020 to 13-Dec-2020 but there is NO missing values."
   ]
  },
  {
   "cell_type": "code",
   "execution_count": null,
   "metadata": {},
   "outputs": [],
   "source": [
    "#viewing the predicted results\n",
    "pred_ci"
   ]
  },
  {
   "cell_type": "code",
   "execution_count": 53,
   "metadata": {},
   "outputs": [
    {
     "data": {
      "text/plain": [
       "['lower new_cases', 'upper new_cases']"
      ]
     },
     "execution_count": 53,
     "metadata": {},
     "output_type": "execute_result"
    }
   ],
   "source": [
    "list(pred_ci.columns.values)\n"
   ]
  },
  {
   "cell_type": "code",
   "execution_count": null,
   "metadata": {},
   "outputs": [],
   "source": [
    "#red_ci[['lower new_cases', 'upper new_cases']]\n",
    "pred_ci['lower new_cases']"
   ]
  },
  {
   "cell_type": "code",
   "execution_count": 54,
   "metadata": {},
   "outputs": [
    {
     "data": {
      "text/html": [
       "<div>\n",
       "<style scoped>\n",
       "    .dataframe tbody tr th:only-of-type {\n",
       "        vertical-align: middle;\n",
       "    }\n",
       "\n",
       "    .dataframe tbody tr th {\n",
       "        vertical-align: top;\n",
       "    }\n",
       "\n",
       "    .dataframe thead th {\n",
       "        text-align: right;\n",
       "    }\n",
       "</style>\n",
       "<table border=\"1\" class=\"dataframe\">\n",
       "  <thead>\n",
       "    <tr style=\"text-align: right;\">\n",
       "      <th></th>\n",
       "      <th>lower new_cases</th>\n",
       "      <th>upper new_cases</th>\n",
       "    </tr>\n",
       "  </thead>\n",
       "  <tbody>\n",
       "  </tbody>\n",
       "</table>\n",
       "</div>"
      ],
      "text/plain": [
       "Empty DataFrame\n",
       "Columns: [lower new_cases, upper new_cases]\n",
       "Index: []"
      ]
     },
     "execution_count": 54,
     "metadata": {},
     "output_type": "execute_result"
    }
   ],
   "source": [
    "pred_ci.filter('')\n",
    "df_result=pred_ci[(pred_ci['lower new_cases'] <=100.0) | (pred_ci['upper new_cases'] <=100.0)]\n",
    "df_result"
   ]
  },
  {
   "cell_type": "code",
   "execution_count": null,
   "metadata": {},
   "outputs": [],
   "source": [
    "# Check for 2 consecutive weeks"
   ]
  },
  {
   "cell_type": "markdown",
   "metadata": {},
   "source": [
    "### there is not even a single week where average is less than 100 cases /day\n",
    "## Based on current trend of data it seems difficult that Malaysia would achieve trend on 100 cases per week in next three months"
   ]
  },
  {
   "cell_type": "markdown",
   "metadata": {},
   "source": [
    "# Time series analysis for COVID19 Test Kit prediction"
   ]
  },
  {
   "cell_type": "code",
   "execution_count": null,
   "metadata": {},
   "outputs": [],
   "source": [
    "df_new_test=df[['date','new_tests']]\n",
    "df_new_test"
   ]
  },
  {
   "cell_type": "code",
   "execution_count": null,
   "metadata": {},
   "outputs": [],
   "source": [
    "df_new_test=df_new_test.set_index('date')\n",
    "df_new_test"
   ]
  },
  {
   "cell_type": "code",
   "execution_count": null,
   "metadata": {},
   "outputs": [],
   "source": [
    "tests_ts_weekly_avg = df_new_test['new_tests'].resample('W').mean()\n",
    "#W : weekly frequency\n",
    "#M : month end frequency\n",
    "#SM : semi-month end frequency (15th and end of month)\n",
    "#Q : quarter end frequency\n",
    "tests_ts_weekly_avg"
   ]
  },
  {
   "cell_type": "code",
   "execution_count": null,
   "metadata": {},
   "outputs": [],
   "source": [
    "#show plot\n",
    "import matplotlib.pyplot as plt\n",
    "#plt.style.use('fivethirtyeight')\n",
    "\n",
    "tests_ts_weekly_avg.plot(figsize=(15, 8))\n",
    "plt.show()"
   ]
  },
  {
   "cell_type": "code",
   "execution_count": null,
   "metadata": {},
   "outputs": [],
   "source": [
    "from statsmodels.graphics.tsaplots import plot_acf, plot_pacf\n",
    "plot_acf(tests_ts_weekly_avg)\n",
    "mpl.pyplot.show()\n",
    "#Plot the autocorrelation function\n",
    "#Plots lags on the horizontal and the correlations on vertical axis.\n",
    "\n"
   ]
  },
  {
   "cell_type": "code",
   "execution_count": null,
   "metadata": {},
   "outputs": [],
   "source": [
    "plot_pacf(tests_ts_weekly_avg)\n",
    "mpl.pyplot.show()"
   ]
  },
  {
   "cell_type": "markdown",
   "metadata": {},
   "source": [
    "import statsmodels.api as sm\n",
    "from pylab import rcParams\n",
    "\n",
    "#rcParams['figure.figsize'] = 18, 8\n",
    "#decomposition = sm.tsa.seasonal_decompose(cases_ts_weekly_avg, model='additive')\n",
    "#decomposition = sm.tsa.seasonal_decompose(cases_ts_weekly_avg)\n",
    "#fig = decomposition.plot()\n",
    "plt.show()\n",
    "#Seasonality not applicable"
   ]
  },
  {
   "cell_type": "code",
   "execution_count": null,
   "metadata": {},
   "outputs": [],
   "source": [
    "#apply adf test on the series\n",
    "print(print_adf_result(tests_ts_weekly_avg))\n",
    "print(print_kpss_result(tests_ts_weekly_avg))"
   ]
  },
  {
   "cell_type": "code",
   "execution_count": null,
   "metadata": {},
   "outputs": [],
   "source": [
    "ts_tests_adj = tests_ts_weekly_avg - cases_ts_weekly_avg.shift(1)\n",
    "#ts_tests_adj =tests_ts_weekly_avg\n",
    "ts_tests_adj = tests_ts_weekly_avg.dropna()\n",
    "ts_tests_adj.plot()"
   ]
  },
  {
   "cell_type": "code",
   "execution_count": null,
   "metadata": {},
   "outputs": [],
   "source": [
    "print(print_adf_result(ts_tests_adj))"
   ]
  },
  {
   "cell_type": "code",
   "execution_count": null,
   "metadata": {},
   "outputs": [],
   "source": [
    "#Plotting the ACF and PACF Plot of the Trend and Seasonally adjusted Time Series data\n",
    "from statsmodels.graphics.tsaplots import plot_acf, plot_pacf\n",
    "plot_acf(ts_tests_adj)\n",
    "mpl.pyplot.show()\n",
    "plot_pacf(ts_tests_adj)\n",
    "mpl.pyplot.show()"
   ]
  },
  {
   "cell_type": "code",
   "execution_count": null,
   "metadata": {},
   "outputs": [],
   "source": [
    "import itertools\n",
    "\n",
    "#setting prameters for SARIMA\n",
    "p = range(0, 3)\n",
    "d = range(1,2)\n",
    "q = range(0, 4)\n",
    "pdq = list(itertools.product(p, d, q))\n",
    "seasonal_pdq = [(x[0], x[1], x[2], 12) for x in list(itertools.product(p, d, q))]\n",
    "print('Examples of parameter combinations for Seasonal ARIMA...')\n",
    "print('ARIMAX: {} x {}'.format(pdq[1], seasonal_pdq[1]))\n",
    "print('ARIMAX: {} x {}'.format(pdq[1], seasonal_pdq[2]))\n",
    "print('ARIMAX: {} x {}'.format(pdq[2], seasonal_pdq[3]))\n",
    "seasonal_pdq"
   ]
  },
  {
   "cell_type": "code",
   "execution_count": null,
   "metadata": {},
   "outputs": [],
   "source": [
    "for param in pdq:\n",
    "    for param_seasonal in seasonal_pdq:\n",
    "        try:\n",
    "            mod = sm.tsa.statespace.SARIMAX(ts_tests_adj,\n",
    "                                            order=param,\n",
    "                                            seasonal_order=param_seasonal,)\n",
    "            results = mod.fit(method = 'powell')\n",
    "            print('ARIMA{}x{}12 - AIC:{}'.format(param, param_seasonal, results.aic))\n",
    "        except:\n",
    "            continue"
   ]
  },
  {
   "cell_type": "code",
   "execution_count": 336,
   "metadata": {},
   "outputs": [
    {
     "ename": "NameError",
     "evalue": "name 'ts_tests_adj' is not defined",
     "output_type": "error",
     "traceback": [
      "\u001b[1;31m---------------------------------------------------------------------------\u001b[0m",
      "\u001b[1;31mNameError\u001b[0m                                 Traceback (most recent call last)",
      "\u001b[1;32m<ipython-input-336-c2fb5771b1bf>\u001b[0m in \u001b[0;36m<module>\u001b[1;34m\u001b[0m\n\u001b[0;32m      1\u001b[0m \u001b[1;31m#ARIMA(0, 1, 1)x(2, 1, 0, 12)\u001b[0m\u001b[1;33m\u001b[0m\u001b[1;33m\u001b[0m\u001b[1;33m\u001b[0m\u001b[0m\n\u001b[1;32m----> 2\u001b[1;33m mod = sm.tsa.statespace.SARIMAX(ts_tests_adj,\n\u001b[0m\u001b[0;32m      3\u001b[0m                                             \u001b[0morder\u001b[0m\u001b[1;33m=\u001b[0m\u001b[0mparam\u001b[0m\u001b[1;33m,\u001b[0m\u001b[1;33m\u001b[0m\u001b[1;33m\u001b[0m\u001b[0m\n\u001b[0;32m      4\u001b[0m                                             seasonal_order=(2, 1, 0, 12))\n\u001b[0;32m      5\u001b[0m \u001b[0mresults\u001b[0m \u001b[1;33m=\u001b[0m \u001b[0mmod\u001b[0m\u001b[1;33m.\u001b[0m\u001b[0mfit\u001b[0m\u001b[1;33m(\u001b[0m\u001b[0mmethod\u001b[0m \u001b[1;33m=\u001b[0m \u001b[1;34m'powell'\u001b[0m\u001b[1;33m)\u001b[0m\u001b[1;33m\u001b[0m\u001b[1;33m\u001b[0m\u001b[0m\n",
      "\u001b[1;31mNameError\u001b[0m: name 'ts_tests_adj' is not defined"
     ]
    }
   ],
   "source": [
    "#ARIMA(0, 1, 1)x(2, 1, 0, 12)\n",
    "mod = sm.tsa.statespace.SARIMAX(ts_tests_adj,\n",
    "                                            order=param,\n",
    "                                            seasonal_order=(2, 1, 0, 12))\n",
    "results = mod.fit(method = 'powell')\n",
    "print(results.summary().tables[1])"
   ]
  },
  {
   "cell_type": "code",
   "execution_count": null,
   "metadata": {},
   "outputs": [],
   "source": [
    "#Plotting the ACF and PACF Plot of the Trend and Seasonally adjusted Time Series data\n",
    "from statsmodels.graphics.tsaplots import plot_acf, plot_pacf\n",
    "plot_acf(ts_tests_adj)\n",
    "mpl.pyplot.show()\n",
    "plot_pacf(ts_tests_adj)\n",
    "mpl.pyplot.show()"
   ]
  },
  {
   "cell_type": "code",
   "execution_count": null,
   "metadata": {},
   "outputs": [],
   "source": [
    "results.plot_diagnostics(figsize=(18, 8))\n",
    "plt.show()"
   ]
  },
  {
   "cell_type": "code",
   "execution_count": null,
   "metadata": {},
   "outputs": [],
   "source": [
    "pred = results.get_prediction(start=pd.to_datetime('2020-08-02'), dynamic=False)\n",
    "pred_ci = pred.conf_int()\n",
    "ax = ts_tests_adj.plot(label='observed')\n",
    "pred.predicted_mean.plot(ax=ax, label='One-step ahead Forecast', alpha=.7, figsize=(14, 4))\n",
    "ax.fill_between(pred_ci.index,\n",
    "                pred_ci.iloc[:, 0],\n",
    "                pred_ci.iloc[:, 1], color='k', alpha=.2)\n",
    "ax.set_xlabel('Date')\n",
    "ax.set_ylabel('New tests')\n",
    "plt.legend()\n",
    "plt.show()"
   ]
  },
  {
   "cell_type": "code",
   "execution_count": null,
   "metadata": {},
   "outputs": [],
   "source": [
    "y_forecasted = pred.predicted_mean\n",
    "y_truth = ts_tests_adj['2020-08-02':]\n",
    "mse = ((y_forecasted - y_truth) ** 2).mean()\n",
    "print('The Mean Squared Error is {}'.format(round(mse, 2)))\n",
    "print('The Root Mean Squared Error is {}'.format(round(np.sqrt(mse), 2)))"
   ]
  },
  {
   "cell_type": "markdown",
   "metadata": {},
   "source": [
    "df['date'].max()`"
   ]
  },
  {
   "cell_type": "code",
   "execution_count": null,
   "metadata": {},
   "outputs": [],
   "source": [
    "pred_uc = results.get_forecast(steps=16)\n",
    "pred_ci = pred_uc.conf_int()\n",
    "ax = ts_tests_adj.plot(label='observed', figsize=(14, 6))\n",
    "pred_uc.predicted_mean.plot(ax=ax, label='Forecast')\n",
    "ax.fill_between(pred_ci.index,\n",
    "                pred_ci.iloc[:, 0],\n",
    "                pred_ci.iloc[:, 1], color='k', alpha=.25)\n",
    "ax.set_xlabel('Date')\n",
    "ax.set_ylabel('New Tests')\n",
    "plt.legend()\n",
    "plt.show()"
   ]
  },
  {
   "cell_type": "code",
   "execution_count": null,
   "metadata": {},
   "outputs": [],
   "source": [
    "pred_ci"
   ]
  },
  {
   "cell_type": "code",
   "execution_count": null,
   "metadata": {},
   "outputs": [],
   "source": [
    "pred_ci['kits_required']=pred_ci.mean(axis=1)\n",
    "pred_ci"
   ]
  },
  {
   "cell_type": "markdown",
   "metadata": {},
   "source": [
    "## Kits required for next 16 weeks"
   ]
  },
  {
   "cell_type": "code",
   "execution_count": null,
   "metadata": {},
   "outputs": [],
   "source": [
    "pred_ci['kits_required']"
   ]
  },
  {
   "cell_type": "code",
   "execution_count": null,
   "metadata": {},
   "outputs": [],
   "source": [
    "kits_required=pred_ci['kits_required']"
   ]
  },
  {
   "cell_type": "markdown",
   "metadata": {},
   "source": [
    "## Kits required for next 4 months are as under"
   ]
  },
  {
   "cell_type": "code",
   "execution_count": null,
   "metadata": {},
   "outputs": [],
   "source": [
    "kits_required[0:3].sum(),kits_required[4:7].sum(),kits_required[8:11].sum(),kits_required[12:15].sum()"
   ]
  },
  {
   "cell_type": "code",
   "execution_count": null,
   "metadata": {},
   "outputs": [],
   "source": []
  },
  {
   "cell_type": "code",
   "execution_count": null,
   "metadata": {},
   "outputs": [],
   "source": []
  },
  {
   "cell_type": "code",
   "execution_count": null,
   "metadata": {},
   "outputs": [],
   "source": []
  },
  {
   "cell_type": "markdown",
   "metadata": {},
   "source": [
    "# ARIMA code 2"
   ]
  },
  {
   "cell_type": "code",
   "execution_count": null,
   "metadata": {},
   "outputs": [],
   "source": [
    "df_new_test=df[['date','new_tests']]\n"
   ]
  },
  {
   "cell_type": "code",
   "execution_count": null,
   "metadata": {},
   "outputs": [],
   "source": [
    "from statsmodels.tsa.arima.model import ARIMA\n",
    "from pandas import DataFrame\n",
    "\n",
    "model = ARIMA(np.asarray( df_new_test['new_tests']), order=(5,1,0))\n",
    "model_fit = model.fit()\n",
    "# summary of fit model\n",
    "print(model_fit.summary())\n",
    "# line plot of residuals\n",
    "residuals = DataFrame(model_fit.resid)\n",
    "residuals.plot()\n",
    "plt.show()\n",
    "# density plot of residuals\n",
    "residuals.plot(kind='kde')\n",
    "plt.show()\n",
    "# summary stats of residuals\n",
    "print(residuals.describe())"
   ]
  },
  {
   "cell_type": "code",
   "execution_count": null,
   "metadata": {},
   "outputs": [],
   "source": [
    "from math import sqrt\n",
    "from sklearn.metrics import mean_squared_error\n",
    "\n",
    "\n",
    "X=np.asarray( df_new_test['new_tests'])\n",
    "size = int(len(X) * 0.66)\n",
    "train, test = X[0:size], X[size:len(X)]\n",
    "history = [x for x in train]\n",
    "predictions = list()\n",
    "# walk-forward validation\n",
    "for t in range(len(test)):\n",
    "\tmodel = ARIMA(history, order=(5,1,0))\n",
    "\tmodel_fit = model.fit()\n",
    "\toutput = model_fit.forecast()\n",
    "\tyhat = output[0]\n",
    "\tpredictions.append(yhat)\n",
    "\tobs = test[t]\n",
    "\thistory.append(obs)\n",
    "\tprint('predicted=%f, expected=%f' % (yhat, obs))\n",
    "# evaluate forecasts\n",
    "rmse = sqrt(mean_squared_error(test, predictions))\n",
    "print('Test RMSE: %.3f' % rmse)\n",
    "# plot forecasts against actual outcomes\n",
    "pyplot.plot(test)\n",
    "pyplot.plot(predictions, color='red')\n",
    "pyplot.show()"
   ]
  },
  {
   "cell_type": "code",
   "execution_count": null,
   "metadata": {},
   "outputs": [],
   "source": [
    "#ARIMA(0, 1, 1)x(2, 1, 0, 12)\n",
    "mod = sm.tsa.statespace.SARIMAX(ts_tests_adj,\n",
    "                                            order=param,\n",
    "                                            seasonal_order=param_seasonal,)\n",
    "results = mod.fit(method = 'powell')\n",
    "print(results.summary().tables[1])"
   ]
  },
  {
   "cell_type": "code",
   "execution_count": null,
   "metadata": {},
   "outputs": [],
   "source": [
    "pred_uc = results.get_forecast(steps=16)\n",
    "pred_ci = pred_uc.conf_int()\n",
    "ax = ts_cases_adj.plot(label='Observed', figsize=(14, 6))\n",
    "pred_uc.predicted_mean.plot(ax=ax, label='Forecast')\n",
    "ax.fill_between(pred_ci.index,\n",
    "                pred_ci.iloc[:, 0],\n",
    "                pred_ci.iloc[:, 1], color='k', alpha=.25)\n",
    "ax.set_xlabel('Date')\n",
    "ax.set_ylabel('New Tests')\n",
    "plt.legend()\n",
    "plt.show()"
   ]
  }
 ],
 "metadata": {
  "kernelspec": {
   "display_name": "Python 3",
   "language": "python",
   "name": "python3"
  },
  "language_info": {
   "codemirror_mode": {
    "name": "ipython",
    "version": 3
   },
   "file_extension": ".py",
   "mimetype": "text/x-python",
   "name": "python",
   "nbconvert_exporter": "python",
   "pygments_lexer": "ipython3",
   "version": "3.7.4"
  }
 },
 "nbformat": 4,
 "nbformat_minor": 2
}
